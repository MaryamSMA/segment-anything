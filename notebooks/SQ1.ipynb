{
 "cells": [
  {
   "cell_type": "code",
   "execution_count": 1,
   "metadata": {},
   "outputs": [],
   "source": [
    "#new code cell below"
   ]
  },
  {
   "cell_type": "code",
   "execution_count": 114,
   "metadata": {},
   "outputs": [
    {
     "name": "stdout",
     "output_type": "stream",
     "text": [
      "Requirement already satisfied: torch in /opt/anaconda3/lib/python3.12/site-packages (2.6.0)\n",
      "Requirement already satisfied: torchvision in /opt/anaconda3/lib/python3.12/site-packages (0.21.0)\n",
      "Requirement already satisfied: torchaudio in /opt/anaconda3/lib/python3.12/site-packages (2.6.0)\n",
      "Requirement already satisfied: filelock in /opt/anaconda3/lib/python3.12/site-packages (from torch) (3.13.1)\n",
      "Requirement already satisfied: typing-extensions>=4.10.0 in /opt/anaconda3/lib/python3.12/site-packages (from torch) (4.11.0)\n",
      "Requirement already satisfied: networkx in /opt/anaconda3/lib/python3.12/site-packages (from torch) (3.3)\n",
      "Requirement already satisfied: jinja2 in /opt/anaconda3/lib/python3.12/site-packages (from torch) (3.1.4)\n",
      "Requirement already satisfied: fsspec in /opt/anaconda3/lib/python3.12/site-packages (from torch) (2024.6.1)\n",
      "Requirement already satisfied: setuptools in /opt/anaconda3/lib/python3.12/site-packages (from torch) (75.1.0)\n",
      "Requirement already satisfied: sympy==1.13.1 in /opt/anaconda3/lib/python3.12/site-packages (from torch) (1.13.1)\n",
      "Requirement already satisfied: mpmath<1.4,>=1.1.0 in /opt/anaconda3/lib/python3.12/site-packages (from sympy==1.13.1->torch) (1.3.0)\n",
      "Requirement already satisfied: numpy in /opt/anaconda3/lib/python3.12/site-packages (from torchvision) (1.26.4)\n",
      "Requirement already satisfied: pillow!=8.3.*,>=5.3.0 in /opt/anaconda3/lib/python3.12/site-packages (from torchvision) (10.4.0)\n",
      "Requirement already satisfied: MarkupSafe>=2.0 in /opt/anaconda3/lib/python3.12/site-packages (from jinja2->torch) (2.1.3)\n",
      "Note: you may need to restart the kernel to use updated packages.\n"
     ]
    }
   ],
   "source": [
    "pip install torch torchvision torchaudio "
   ]
  },
  {
   "cell_type": "code",
   "execution_count": 4,
   "metadata": {},
   "outputs": [],
   "source": [
    "#new code cell below"
   ]
  },
  {
   "cell_type": "code",
   "execution_count": 1,
   "metadata": {},
   "outputs": [
    {
     "name": "stdout",
     "output_type": "stream",
     "text": [
      "HOME: /Users/ma/Documents/samThesis/segment-anything/notebooks\n",
      "✅ Dataset Path: /Users/ma/Documents/samThesis/segment-anything/notebooks/dataset\n",
      "✅ Images Path: /Users/ma/Documents/samThesis/segment-anything/notebooks/dataset/images\n",
      "✅ Weights Path: /Users/ma/Documents/samThesis/segment-anything/notebooks/weights\n"
     ]
    }
   ],
   "source": [
    "import os\n",
    "\n",
    "# Set up the base directory for dataset and weights\n",
    "HOME = os.getcwd()\n",
    "print(\"HOME:\", HOME)\n",
    "\n",
    "# Define dataset and weights directory\n",
    "DATASET_PATH = os.path.join(HOME, \"dataset\")\n",
    "IMAGES_PATH = os.path.join(DATASET_PATH, \"images\")\n",
    "WEIGHTS_PATH = os.path.join(HOME, \"weights\")\n",
    "\n",
    "# Create necessary directories if they don't exist\n",
    "os.makedirs(WEIGHTS_PATH, exist_ok=True)\n",
    "os.makedirs(IMAGES_PATH, exist_ok=True)\n",
    "\n",
    "print(f\"✅ Dataset Path: {DATASET_PATH}\")\n",
    "print(f\"✅ Images Path: {IMAGES_PATH}\")\n",
    "print(f\"✅ Weights Path: {WEIGHTS_PATH}\")"
   ]
  },
  {
   "cell_type": "markdown",
   "metadata": {
    "id": "L2s3TnW4nhjC"
   },
   "source": [
    "## Before you start\n",
    "\n",
    "Let's make sure that we have access to GPU. We can use `nvidia-smi` command to do that. In case of any problems navigate to `Edit` -> `Notebook settings` -> `Hardware accelerator`, set it to `GPU`, and then click `Save`."
   ]
  },
  {
   "cell_type": "code",
   "execution_count": 4,
   "metadata": {
    "colab": {
     "base_uri": "https://localhost:8080/"
    },
    "id": "Frcrk09FhJeV",
    "outputId": "11350dbb-8834-495c-969b-4c0a7d4702ed"
   },
   "outputs": [],
   "source": [
    "#!nvidia-smi"
   ]
  },
  {
   "cell_type": "code",
   "execution_count": 6,
   "metadata": {},
   "outputs": [],
   "source": [
    "#new code cell below"
   ]
  },
  {
   "cell_type": "code",
   "execution_count": 8,
   "metadata": {},
   "outputs": [
    {
     "name": "stdout",
     "output_type": "stream",
     "text": [
      "PyTorch Version: 2.6.0\n",
      "MPS Available: True\n",
      "MPS Device: mps\n"
     ]
    }
   ],
   "source": [
    "import torch\n",
    "\n",
    "print(\"PyTorch Version:\", torch.__version__)\n",
    "print(\"MPS Available:\", torch.backends.mps.is_available())\n",
    "print(\"MPS Device:\", torch.device(\"mps\") if torch.backends.mps.is_available() else \"CPU Only\")"
   ]
  },
  {
   "cell_type": "markdown",
   "metadata": {
    "id": "Iov3yhoRnxG2"
   },
   "source": [
    "**NOTE:** To make it easier for us to manage datasets, images and models we create a `HOME` constant."
   ]
  },
  {
   "cell_type": "code",
   "execution_count": 11,
   "metadata": {
    "colab": {
     "base_uri": "https://localhost:8080/"
    },
    "id": "dgS8jFPMnj5h",
    "outputId": "d57bdcba-0f8b-4d94-cd01-fba3bb4a51a1"
   },
   "outputs": [
    {
     "name": "stdout",
     "output_type": "stream",
     "text": [
      "HOME: /Users/ma/Documents/samThesis/segment-anything/notebooks\n"
     ]
    }
   ],
   "source": [
    "import os\n",
    "HOME = os.getcwd()\n",
    "print(\"HOME:\", HOME)"
   ]
  },
  {
   "cell_type": "code",
   "execution_count": 13,
   "metadata": {},
   "outputs": [],
   "source": [
    "#new code cell below"
   ]
  },
  {
   "cell_type": "code",
   "execution_count": 15,
   "metadata": {
    "colab": {
     "base_uri": "https://localhost:8080/"
    },
    "id": "qbCwiR_6PDcZ",
    "outputId": "1091ac79-3ffa-4cf6-a581-9ce3c74056b1"
   },
   "outputs": [
    {
     "name": "stdout",
     "output_type": "stream",
     "text": [
      "✅ Using Dataset: shapes_dataset_16x16\n",
      "✅ Images Path: /Users/ma/Documents/samThesis/segment-anything/notebooks/shapes_dataset_16x16/dataset/images\n",
      "✅ Annotations Path: /Users/ma/Documents/samThesis/segment-anything/notebooks/shapes_dataset_16x16/dataset/annotations/shapes_coco.json\n"
     ]
    }
   ],
   "source": [
    "import os\n",
    "\n",
    "# Define the base dataset directory\n",
    "HOME = os.getcwd()\n",
    "DATASET_BASE_PATH = HOME  # Base directory\n",
    "\n",
    "# Select resolution\n",
    "IMAGE_SIZE = 16  # Change this for different resolutions (16, 28, 128, 256)\n",
    "DATASET_FOLDER_NAME = f\"shapes_dataset_{IMAGE_SIZE}x{IMAGE_SIZE}\"\n",
    "\n",
    "# Define dataset paths dynamically based on selected size\n",
    "DATASET_PATH = os.path.join(DATASET_BASE_PATH, DATASET_FOLDER_NAME, \"dataset\")\n",
    "IMAGES_DIRECTORY_PATH = os.path.join(DATASET_PATH, \"images\")\n",
    "ANNOTATIONS_FILE_PATH = os.path.join(DATASET_PATH, \"annotations\", \"shapes_coco.json\")\n",
    "\n",
    "# Print paths for verification\n",
    "print(f\"✅ Using Dataset: {DATASET_FOLDER_NAME}\")\n",
    "print(f\"✅ Images Path: {IMAGES_DIRECTORY_PATH}\")\n",
    "print(f\"✅ Annotations Path: {ANNOTATIONS_FILE_PATH}\")"
   ]
  },
  {
   "cell_type": "code",
   "execution_count": 17,
   "metadata": {},
   "outputs": [],
   "source": [
    "#Define IoU & Dice Score Functions"
   ]
  },
  {
   "cell_type": "code",
   "execution_count": 19,
   "metadata": {},
   "outputs": [
    {
     "name": "stdout",
     "output_type": "stream",
     "text": [
      "✅ IoU & Dice functions are defined!\n"
     ]
    }
   ],
   "source": [
    "import torch\n",
    "import numpy as np\n",
    "\n",
    "def compute_iou(pred_mask, gt_mask):\n",
    "    \"\"\"Computes Intersection over Union (IoU)\"\"\"\n",
    "    intersection = torch.logical_and(pred_mask, gt_mask).sum().item()\n",
    "    union = torch.logical_or(pred_mask, gt_mask).sum().item()\n",
    "    return intersection / union if union > 0 else 0.0\n",
    "\n",
    "def compute_dice(pred_mask, gt_mask):\n",
    "    \"\"\"Computes Dice Score (F1-Score for segmentation)\"\"\"\n",
    "    intersection = torch.logical_and(pred_mask, gt_mask).sum().item()\n",
    "    return (2 * intersection) / (pred_mask.sum().item() + gt_mask.sum().item()) if (pred_mask.sum().item() + gt_mask.sum().item()) > 0 else 0.0\n",
    "\n",
    "print(\"✅ IoU & Dice functions are defined!\")"
   ]
  },
  {
   "cell_type": "markdown",
   "metadata": {
    "id": "YN3DPGZSn57p"
   },
   "source": [
    "## Install Segment Anything Model (SAM) and other dependencies"
   ]
  },
  {
   "cell_type": "markdown",
   "metadata": {
    "id": "2VeYIWh1iDWW"
   },
   "source": [
    "### Download SAM weights"
   ]
  },
  {
   "cell_type": "code",
   "execution_count": 23,
   "metadata": {
    "colab": {
     "base_uri": "https://localhost:8080/"
    },
    "id": "1H9YruJen0Q8",
    "outputId": "381e5ca6-84f5-4e73-de3f-acf958beaa44"
   },
   "outputs": [],
   "source": [
    "#!pip install -q 'git+https://github.com/facebookresearch/segment-anything.git'"
   ]
  },
  {
   "cell_type": "code",
   "execution_count": 25,
   "metadata": {
    "id": "G3CtzYroC2Lb"
   },
   "outputs": [],
   "source": [
    "!pip install -q jupyter_bbox_widget roboflow dataclasses-json supervision==0.23.0"
   ]
  },
  {
   "cell_type": "code",
   "execution_count": 26,
   "metadata": {},
   "outputs": [],
   "source": [
    "#new code cells below: Set Up the Environment to Use Local SAM"
   ]
  },
  {
   "cell_type": "code",
   "execution_count": 29,
   "metadata": {},
   "outputs": [
    {
     "name": "stdout",
     "output_type": "stream",
     "text": [
      "✅ SAM Local Path Added: /Users/ma/Documents/samThesis/segment-anything\n"
     ]
    }
   ],
   "source": [
    "import sys\n",
    "import os\n",
    "\n",
    "# Define your SAM root directory\n",
    "SAM_ROOT = \"/Users/ma/Documents/samThesis/segment-anything\"\n",
    "\n",
    "# Add SAM to the Python path\n",
    "sys.path.append(SAM_ROOT)\n",
    "\n",
    "# Print to confirm\n",
    "print(\"✅ SAM Local Path Added:\", SAM_ROOT)"
   ]
  },
  {
   "cell_type": "code",
   "execution_count": 31,
   "metadata": {},
   "outputs": [],
   "source": [
    "#new code cells bellow: Verify & Set Up the Model Weights"
   ]
  },
  {
   "cell_type": "code",
   "execution_count": 33,
   "metadata": {},
   "outputs": [
    {
     "name": "stdout",
     "output_type": "stream",
     "text": [
      "✅ Weights directory ensured at: /Users/ma/Documents/samThesis/segment-anything/weights\n"
     ]
    }
   ],
   "source": [
    "import os\n",
    "\n",
    "WEIGHTS_DIR = \"/Users/ma/Documents/samThesis/segment-anything/weights\"\n",
    "os.makedirs(WEIGHTS_DIR, exist_ok=True)\n",
    "\n",
    "print(f\"✅ Weights directory ensured at: {WEIGHTS_DIR}\")"
   ]
  },
  {
   "cell_type": "code",
   "execution_count": 35,
   "metadata": {},
   "outputs": [
    {
     "name": "stdout",
     "output_type": "stream",
     "text": [
      "✅ Checkpoint already exists at: /Users/ma/Documents/samThesis/segment-anything/weights/sam_vit_h_4b8939.pth\n"
     ]
    }
   ],
   "source": [
    "import os\n",
    "\n",
    "CHECKPOINT_URL = \"https://dl.fbaipublicfiles.com/segment_anything/sam_vit_h_4b8939.pth\"\n",
    "WEIGHTS_DIR = \"/Users/ma/Documents/samThesis/segment-anything/weights\"\n",
    "CHECKPOINT_PATH = os.path.join(WEIGHTS_DIR, \"sam_vit_h_4b8939.pth\")\n",
    "\n",
    "# Create the weights directory if it doesn't exist\n",
    "os.makedirs(WEIGHTS_DIR, exist_ok=True)\n",
    "\n",
    "# Use curl instead of wget\n",
    "if not os.path.isfile(CHECKPOINT_PATH):\n",
    "    os.system(f\"curl -o {CHECKPOINT_PATH} {CHECKPOINT_URL}\")\n",
    "    print(f\"✅ Successfully downloaded SAM checkpoint to: {CHECKPOINT_PATH}\")\n",
    "else:\n",
    "    print(f\"✅ Checkpoint already exists at: {CHECKPOINT_PATH}\")"
   ]
  },
  {
   "cell_type": "code",
   "execution_count": 37,
   "metadata": {},
   "outputs": [
    {
     "name": "stdout",
     "output_type": "stream",
     "text": [
      "✅ SAM checkpoint successfully downloaded!\n"
     ]
    }
   ],
   "source": [
    "if os.path.exists(CHECKPOINT_PATH):\n",
    "    print(\"✅ SAM checkpoint successfully downloaded!\")\n",
    "else:\n",
    "    print(\"❌ ERROR: Checkpoint download failed.\")"
   ]
  },
  {
   "cell_type": "code",
   "execution_count": 39,
   "metadata": {},
   "outputs": [
    {
     "name": "stdout",
     "output_type": "stream",
     "text": [
      "Requirement already satisfied: pennylane in /opt/anaconda3/lib/python3.12/site-packages (0.40.0)\n",
      "Requirement already satisfied: numpy<2.1 in /opt/anaconda3/lib/python3.12/site-packages (from pennylane) (1.26.4)\n",
      "Requirement already satisfied: scipy in /opt/anaconda3/lib/python3.12/site-packages (from pennylane) (1.13.1)\n",
      "Requirement already satisfied: networkx in /opt/anaconda3/lib/python3.12/site-packages (from pennylane) (3.3)\n",
      "Requirement already satisfied: rustworkx>=0.14.0 in /opt/anaconda3/lib/python3.12/site-packages (from pennylane) (0.16.0)\n",
      "Requirement already satisfied: autograd in /opt/anaconda3/lib/python3.12/site-packages (from pennylane) (1.7.0)\n",
      "Requirement already satisfied: tomlkit in /opt/anaconda3/lib/python3.12/site-packages (from pennylane) (0.11.1)\n",
      "Requirement already satisfied: appdirs in /opt/anaconda3/lib/python3.12/site-packages (from pennylane) (1.4.4)\n",
      "Requirement already satisfied: autoray>=0.6.11 in /opt/anaconda3/lib/python3.12/site-packages (from pennylane) (0.7.0)\n",
      "Requirement already satisfied: cachetools in /opt/anaconda3/lib/python3.12/site-packages (from pennylane) (5.3.3)\n",
      "Requirement already satisfied: pennylane-lightning>=0.40 in /opt/anaconda3/lib/python3.12/site-packages (from pennylane) (0.40.0)\n",
      "Requirement already satisfied: requests in /opt/anaconda3/lib/python3.12/site-packages (from pennylane) (2.32.3)\n",
      "Requirement already satisfied: typing-extensions in /opt/anaconda3/lib/python3.12/site-packages (from pennylane) (4.11.0)\n",
      "Requirement already satisfied: packaging in /opt/anaconda3/lib/python3.12/site-packages (from pennylane) (24.1)\n",
      "Requirement already satisfied: diastatic-malt in /opt/anaconda3/lib/python3.12/site-packages (from pennylane) (2.15.2)\n",
      "Requirement already satisfied: scipy-openblas32>=0.3.26 in /opt/anaconda3/lib/python3.12/site-packages (from pennylane-lightning>=0.40->pennylane) (0.3.29.0.0)\n",
      "Requirement already satisfied: astunparse in /opt/anaconda3/lib/python3.12/site-packages (from diastatic-malt->pennylane) (1.6.3)\n",
      "Requirement already satisfied: gast in /opt/anaconda3/lib/python3.12/site-packages (from diastatic-malt->pennylane) (0.6.0)\n",
      "Requirement already satisfied: termcolor in /opt/anaconda3/lib/python3.12/site-packages (from diastatic-malt->pennylane) (2.5.0)\n",
      "Requirement already satisfied: charset-normalizer<4,>=2 in /opt/anaconda3/lib/python3.12/site-packages (from requests->pennylane) (3.3.2)\n",
      "Requirement already satisfied: idna<4,>=2.5 in /opt/anaconda3/lib/python3.12/site-packages (from requests->pennylane) (3.7)\n",
      "Requirement already satisfied: urllib3<3,>=1.21.1 in /opt/anaconda3/lib/python3.12/site-packages (from requests->pennylane) (2.2.3)\n",
      "Requirement already satisfied: certifi>=2017.4.17 in /opt/anaconda3/lib/python3.12/site-packages (from requests->pennylane) (2025.1.31)\n",
      "Requirement already satisfied: wheel<1.0,>=0.23.0 in /opt/anaconda3/lib/python3.12/site-packages (from astunparse->diastatic-malt->pennylane) (0.44.0)\n",
      "Requirement already satisfied: six<2.0,>=1.6.1 in /opt/anaconda3/lib/python3.12/site-packages (from astunparse->diastatic-malt->pennylane) (1.16.0)\n"
     ]
    }
   ],
   "source": [
    "!pip install pennylane"
   ]
  },
  {
   "cell_type": "code",
   "execution_count": 41,
   "metadata": {},
   "outputs": [
    {
     "name": "stdout",
     "output_type": "stream",
     "text": [
      "✅ Successfully loaded SAM model from /Users/ma/Documents/samThesis/segment-anything/weights/sam_vit_h_4b8939.pth on mps\n"
     ]
    }
   ],
   "source": [
    "from segment_anything import sam_model_registry, SamPredictor\n",
    "import torch\n",
    "\n",
    "# Use MPS for Mac M1/M2\n",
    "DEVICE = torch.device(\"mps\" if torch.backends.mps.is_available() else \"cpu\")\n",
    "\n",
    "# Define the model type and local checkpoint path\n",
    "MODEL_TYPE = \"vit_h\"\n",
    "CHECKPOINT_PATH = \"/Users/ma/Documents/samThesis/segment-anything/weights/sam_vit_h_4b8939.pth\"\n",
    "\n",
    "# Load the model from the local checkpoint\n",
    "sam = sam_model_registry[MODEL_TYPE](checkpoint=CHECKPOINT_PATH).to(device=DEVICE)\n",
    "\n",
    "print(f\"✅ Successfully loaded SAM model from {CHECKPOINT_PATH} on {DEVICE}\")"
   ]
  },
  {
   "cell_type": "markdown",
   "metadata": {
    "id": "aIlYzcqqpZdc"
   },
   "source": [
    "## Download Example Data\n",
    "\n",
    "**NONE:** Let's download few example images. Feel free to use your images or videos."
   ]
  },
  {
   "cell_type": "code",
   "execution_count": 44,
   "metadata": {
    "colab": {
     "base_uri": "https://localhost:8080/"
    },
    "id": "CTtBlr0akRt8",
    "outputId": "d96cbf4b-b1d3-47cf-9962-64b1bdfdbfdf"
   },
   "outputs": [],
   "source": [
    "#!git clone https://github.com/cjpurackal/shapes.git"
   ]
  },
  {
   "cell_type": "code",
   "execution_count": 46,
   "metadata": {},
   "outputs": [
    {
     "name": "stdout",
     "output_type": "stream",
     "text": [
      "✅ Repository found at: /Users/ma/Documents/samThesis/segment-anything/notebooks/shapes\n"
     ]
    }
   ],
   "source": [
    "import os\n",
    "\n",
    "REPO_PATH = \"shapes\"\n",
    "\n",
    "# Check if the repo exists\n",
    "if os.path.exists(REPO_PATH):\n",
    "    print(f\"✅ Repository found at: {os.path.abspath(REPO_PATH)}\")\n",
    "else:\n",
    "    print(f\"❌ ERROR: Repository not found at {REPO_PATH}\")"
   ]
  },
  {
   "cell_type": "code",
   "execution_count": 48,
   "metadata": {
    "colab": {
     "base_uri": "https://localhost:8080/"
    },
    "id": "2wY8_dcdMplJ",
    "outputId": "1d40561f-2ad2-4192-dd77-d985e97b0a62"
   },
   "outputs": [
    {
     "name": "stdout",
     "output_type": "stream",
     "text": [
      "/Users/ma/Documents/samThesis/segment-anything/notebooks/shapes\n"
     ]
    }
   ],
   "source": [
    "cd shapes"
   ]
  },
  {
   "cell_type": "code",
   "execution_count": 50,
   "metadata": {
    "colab": {
     "base_uri": "https://localhost:8080/"
    },
    "id": "vQxdvXanMrUl",
    "outputId": "bec0369a-811d-45e8-de0b-b308a8067251"
   },
   "outputs": [
    {
     "name": "stdout",
     "output_type": "stream",
     "text": [
      "Running: python run.py --save_dir ./shapes_dataset_16x16 --image_size 16 16 --num_images 100 --shapes circle rect --task_type segmentation\n"
     ]
    },
    {
     "name": "stderr",
     "output_type": "stream",
     "text": [
      "100%|██████████| 100/100 [00:01<00:00, 68.36it/s]\n"
     ]
    },
    {
     "name": "stdout",
     "output_type": "stream",
     "text": [
      "✅ Generated segmentation dataset in ./shapes_dataset_16x16 with COCO annotations\n",
      "Running: python run.py --save_dir ./shapes_dataset_28x28 --image_size 28 28 --num_images 100 --shapes circle rect --task_type segmentation\n"
     ]
    },
    {
     "name": "stderr",
     "output_type": "stream",
     "text": [
      "100%|██████████| 100/100 [00:01<00:00, 85.09it/s]\n"
     ]
    },
    {
     "name": "stdout",
     "output_type": "stream",
     "text": [
      "✅ Generated segmentation dataset in ./shapes_dataset_28x28 with COCO annotations\n",
      "Running: python run.py --save_dir ./shapes_dataset_128x128 --image_size 128 128 --num_images 100 --shapes circle rect --task_type segmentation\n"
     ]
    },
    {
     "name": "stderr",
     "output_type": "stream",
     "text": [
      "100%|██████████| 100/100 [00:01<00:00, 65.17it/s]\n"
     ]
    },
    {
     "name": "stdout",
     "output_type": "stream",
     "text": [
      "✅ Generated segmentation dataset in ./shapes_dataset_128x128 with COCO annotations\n",
      "Running: python run.py --save_dir ./shapes_dataset_256x256 --image_size 256 256 --num_images 100 --shapes circle rect --task_type segmentation\n"
     ]
    },
    {
     "name": "stderr",
     "output_type": "stream",
     "text": [
      "100%|██████████| 100/100 [00:02<00:00, 36.42it/s]\n"
     ]
    },
    {
     "name": "stdout",
     "output_type": "stream",
     "text": [
      "✅ Generated segmentation dataset in ./shapes_dataset_256x256 with COCO annotations\n",
      "✅ Dataset generation complete for all resolutions.\n"
     ]
    }
   ],
   "source": [
    "import os\n",
    "\n",
    "# Define the resolutions\n",
    "image_sizes = [16, 28, 128, 256]\n",
    "\n",
    "# Loop through each resolution and run the command\n",
    "for size in image_sizes:\n",
    "    command = f\"python run.py --save_dir ./shapes_dataset_{size}x{size} --image_size {size} {size} --num_images 100 --shapes circle rect --task_type segmentation\"\n",
    "    print(f\"Running: {command}\")  # Print to track progress\n",
    "    os.system(command)  # Execute the command\n",
    "\n",
    "print(\"✅ Dataset generation complete for all resolutions.\")"
   ]
  },
  {
   "cell_type": "code",
   "execution_count": 51,
   "metadata": {},
   "outputs": [],
   "source": [
    "#Test"
   ]
  },
  {
   "cell_type": "code",
   "execution_count": 54,
   "metadata": {},
   "outputs": [
    {
     "name": "stdout",
     "output_type": "stream",
     "text": [
      "\n",
      "📂 Checking ./shapes_dataset_16x16/dataset ...\n",
      " - Images Directory Exists: True\n",
      " - Annotations File Exists: True\n",
      " - Sample Images: ['shapes_43.png', 'shapes_57.png', 'shapes_7.png', 'shapes_80.png', 'shapes_94.png']\n",
      " - Annotations File Size: 6983 bytes\n",
      "\n",
      "📂 Checking ./shapes_dataset_28x28/dataset ...\n",
      " - Images Directory Exists: True\n",
      " - Annotations File Exists: True\n",
      " - Sample Images: ['shapes_43.png', 'shapes_57.png', 'shapes_7.png', 'shapes_80.png', 'shapes_94.png']\n",
      " - Annotations File Size: 6983 bytes\n",
      "\n",
      "📂 Checking ./shapes_dataset_128x128/dataset ...\n",
      " - Images Directory Exists: True\n",
      " - Annotations File Exists: True\n",
      " - Sample Images: ['shapes_43.png', 'shapes_57.png', 'shapes_7.png', 'shapes_80.png', 'shapes_94.png']\n",
      " - Annotations File Size: 784897 bytes\n",
      "\n",
      "📂 Checking ./shapes_dataset_256x256/dataset ...\n",
      " - Images Directory Exists: True\n",
      " - Annotations File Exists: True\n",
      " - Sample Images: ['shapes_43.png', 'shapes_57.png', 'shapes_7.png', 'shapes_80.png', 'shapes_94.png']\n",
      " - Annotations File Size: 3374140 bytes\n"
     ]
    }
   ],
   "source": [
    "import os\n",
    "\n",
    "# Define the dataset paths\n",
    "datasets = [\"16x16\", \"28x28\", \"128x128\", \"256x256\"]\n",
    "\n",
    "for size in datasets:\n",
    "    dataset_path = f\"./shapes_dataset_{size}/dataset\"\n",
    "    images_path = os.path.join(dataset_path, \"images\")\n",
    "    annotations_path = os.path.join(dataset_path, \"annotations/shapes_coco.json\")\n",
    "\n",
    "    print(f\"\\n📂 Checking {dataset_path} ...\")\n",
    "    print(f\" - Images Directory Exists: {os.path.exists(images_path)}\")\n",
    "    print(f\" - Annotations File Exists: {os.path.isfile(annotations_path)}\")\n",
    "\n",
    "    # List a few images\n",
    "    if os.path.exists(images_path):\n",
    "        images = os.listdir(images_path)[:5]  # Show first 5 images\n",
    "        print(f\" - Sample Images: {images}\")\n",
    "\n",
    "    # Check annotation file size\n",
    "    if os.path.isfile(annotations_path):\n",
    "        print(f\" - Annotations File Size: {os.path.getsize(annotations_path)} bytes\")"
   ]
  },
  {
   "cell_type": "code",
   "execution_count": 56,
   "metadata": {},
   "outputs": [],
   "source": [
    "#Test"
   ]
  },
  {
   "cell_type": "code",
   "execution_count": 58,
   "metadata": {},
   "outputs": [
    {
     "data": {
      "image/png": "[encoded data removed]",
      "text/plain": [
       "<Figure size 600x600 with 1 Axes>"
      ]
     },
     "metadata": {},
     "output_type": "display_data"
    }
   ],
   "source": [
    "import matplotlib.pyplot as plt\n",
    "import cv2\n",
    "\n",
    "# Load an example image from the generated dataset\n",
    "image_path = \"./shapes_dataset_128x128/dataset/images/shapes_10.png\"\n",
    "image = cv2.imread(image_path)\n",
    "image = cv2.cvtColor(image, cv2.COLOR_BGR2RGB)\n",
    "\n",
    "plt.figure(figsize=(6, 6))\n",
    "plt.imshow(image)\n",
    "plt.axis(\"off\")\n",
    "plt.title(\"Generated Dataset Image\")\n",
    "plt.show()"
   ]
  },
  {
   "cell_type": "code",
   "execution_count": 60,
   "metadata": {},
   "outputs": [],
   "source": [
    "#Test"
   ]
  },
  {
   "cell_type": "code",
   "execution_count": 62,
   "metadata": {},
   "outputs": [
    {
     "name": "stdout",
     "output_type": "stream",
     "text": [
      "\n",
      "✅ Loaded ./shapes_dataset_128x128/dataset/annotations/shapes_coco.json\n",
      " - Total Images: 100\n",
      " - Total Annotations: 1552\n",
      "\n",
      "🔍 Sample Annotation:\n",
      "[\n",
      "    {\n",
      "        \"id\": 1,\n",
      "        \"image_id\": 0,\n",
      "        \"category_id\": 2,\n",
      "        \"segmentation\": [\n",
      "            [\n",
      "                16,\n",
      "                9,\n",
      "                31,\n",
      "                9,\n",
      "                31,\n",
      "                24,\n",
      "                16,\n",
      "                24\n",
      "            ]\n",
      "        ],\n",
      "        \"area\": 400,\n",
      "        \"bbox\": [\n",
      "            16,\n",
      "            9,\n",
      "            20,\n",
      "            20\n",
      "        ],\n",
      "        \"iscrowd\": 0\n",
      "    },\n",
      "    {\n",
      "        \"id\": 2,\n",
      "        \"image_id\": 0,\n",
      "        \"category_id\": 1,\n",
      "        \"segmentation\": [\n",
      "            [\n",
      "                42.0,\n",
      "                10.0,\n",
      "                40.91634483401269,\n",
      "                16.49398938409367,\n",
      "                37.78281018792787,\n",
      "                22.284254253793357,\n",
      "                32.93896316244854,\n",
      "                26.74332956525057,\n",
      "                26.909709742815984,\n",
      "                29.388005318786607,\n",
      "                20.348413090553354,\n",
      "                29.931689860133396,\n",
      "                13.966091506940614,\n",
      "                28.31546653310115,\n",
      "                8.45436856748518,\n",
      "                24.714478213462634,\n",
      "                4.410524975870221,\n",
      "                19.518947860741473,\n",
      "                2.2727739319455544,\n",
      "                13.29189180561468,\n",
      "                2.272773931945551,\n",
      "                6.708108194385325,\n",
      "                4.410524975870217,\n",
      "                0.4810521392585301,\n",
      "                8.454368567485172,\n",
      "                -4.714478213462625,\n",
      "                13.966091506940602,\n",
      "                -8.315466533101144,\n",
      "                20.348413090553343,\n",
      "                -9.931689860133396,\n",
      "                26.909709742815977,\n",
      "                -9.388005318786611,\n",
      "                32.93896316244853,\n",
      "                -6.743329565250576,\n",
      "                37.782810187927865,\n",
      "                -2.2842542537933603,\n",
      "                40.91634483401269,\n",
      "                3.506010615906325,\n",
      "                42.0,\n",
      "                9.999999999999995\n",
      "            ]\n",
      "        ],\n",
      "        \"area\": 400,\n",
      "        \"bbox\": [\n",
      "            22,\n",
      "            10,\n",
      "            20,\n",
      "            20\n",
      "        ],\n",
      "        \"iscrowd\": 0\n",
      "    }\n",
      "]\n"
     ]
    }
   ],
   "source": [
    "import json\n",
    "\n",
    "# Select the dataset size to check\n",
    "dataset_size = \"128x128\"  # Change to 16x16, 28x28, or 256x256\n",
    "\n",
    "# Define annotation file path\n",
    "annotation_file = f\"./shapes_dataset_{dataset_size}/dataset/annotations/shapes_coco.json\"\n",
    "\n",
    "# Load and inspect annotations\n",
    "with open(annotation_file, \"r\") as f:\n",
    "    coco_data = json.load(f)\n",
    "\n",
    "print(f\"\\n✅ Loaded {annotation_file}\")\n",
    "print(f\" - Total Images: {len(coco_data['images'])}\")\n",
    "print(f\" - Total Annotations: {len(coco_data['annotations'])}\")\n",
    "\n",
    "# Show first 2 annotations for verification\n",
    "print(\"\\n🔍 Sample Annotation:\")\n",
    "print(json.dumps(coco_data[\"annotations\"][:2], indent=4))"
   ]
  },
  {
   "cell_type": "code",
   "execution_count": 64,
   "metadata": {},
   "outputs": [
    {
     "data": {
      "image/png": "[encoded data removed]",
      "text/plain": [
       "<Figure size 600x600 with 1 Axes>"
      ]
     },
     "metadata": {},
     "output_type": "display_data"
    }
   ],
   "source": [
    "import matplotlib.pyplot as plt\n",
    "import cv2\n",
    "import numpy as np\n",
    "import json\n",
    "import random\n",
    "import os\n",
    "\n",
    "# Choose dataset size\n",
    "dataset_size = \"128x128\"  # Change this to 16x16, 28x28, or 256x256\n",
    "\n",
    "# Define the paths\n",
    "images_dir = f\"./shapes_dataset_{dataset_size}/dataset/images\"\n",
    "annotations_file = f\"./shapes_dataset_{dataset_size}/dataset/annotations/shapes_coco.json\"\n",
    "\n",
    "# Load annotation data\n",
    "with open(annotations_file, \"r\") as f:\n",
    "    coco_data = json.load(f)\n",
    "\n",
    "# Pick a random image\n",
    "image_info = random.choice(coco_data[\"images\"])\n",
    "image_filename = image_info[\"file_name\"]\n",
    "image_path = os.path.join(images_dir, image_filename)\n",
    "\n",
    "# Load the image\n",
    "image = cv2.imread(image_path)\n",
    "image = cv2.cvtColor(image, cv2.COLOR_BGR2RGB)\n",
    "\n",
    "# Get annotations for the selected image\n",
    "image_annotations = [ann for ann in coco_data[\"annotations\"] if ann[\"image_id\"] == image_info[\"id\"]]\n",
    "\n",
    "# Plot the image\n",
    "plt.figure(figsize=(6, 6))\n",
    "plt.imshow(image)\n",
    "plt.axis(\"off\")\n",
    "plt.title(f\"Generated Image: {image_filename}\")\n",
    "\n",
    "# Overlay segmentation masks\n",
    "for ann in image_annotations:\n",
    "    segmentation = np.array(ann[\"segmentation\"][0]).reshape(-1, 2)  # Convert segmentation to (x, y) pairs\n",
    "    plt.fill(segmentation[:, 0], segmentation[:, 1], color=\"red\", alpha=0.4)  # Red mask overlay\n",
    "\n",
    "plt.show()"
   ]
  },
  {
   "cell_type": "markdown",
   "metadata": {
    "id": "vlhbd_f4xfiJ"
   },
   "source": [
    "## Load Model"
   ]
  },
  {
   "cell_type": "code",
   "execution_count": 67,
   "metadata": {
    "id": "t6_9PSZupghA"
   },
   "outputs": [],
   "source": [
    "import torch\n",
    "\n",
    "DEVICE = torch.device('cuda:0' if torch.cuda.is_available() else 'cpu')\n",
    "MODEL_TYPE = \"vit_h\""
   ]
  },
  {
   "cell_type": "code",
   "execution_count": 69,
   "metadata": {
    "id": "n41g6y-Zx-9x"
   },
   "outputs": [],
   "source": [
    "from segment_anything import sam_model_registry, SamAutomaticMaskGenerator, SamPredictor\n",
    "\n",
    "sam = sam_model_registry[MODEL_TYPE](checkpoint=CHECKPOINT_PATH).to(device=DEVICE)"
   ]
  },
  {
   "cell_type": "markdown",
   "metadata": {
    "id": "pi3C4uDWo10h"
   },
   "source": [
    "## Automated Mask Generation\n",
    "\n",
    "To run automatic mask generation, provide a SAM model to the `SamAutomaticMaskGenerator` class. Set the path below to the SAM checkpoint. Running on CUDA and with the default model is recommended."
   ]
  },
  {
   "cell_type": "code",
   "execution_count": 71,
   "metadata": {
    "id": "CtymFaiKyQ57"
   },
   "outputs": [],
   "source": [
    "mask_generator = SamAutomaticMaskGenerator(sam)"
   ]
  },
  {
   "cell_type": "code",
   "execution_count": 74,
   "metadata": {},
   "outputs": [
    {
     "name": "stdout",
     "output_type": "stream",
     "text": [
      "✅ Using Image: /Users/ma/Documents/samThesis/segment-anything/notebooks/shapes/shapes_dataset_128x128/dataset/images/shapes_42.png\n"
     ]
    }
   ],
   "source": [
    "import os\n",
    "import random\n",
    "\n",
    "# Correct dataset path\n",
    "dataset_size = \"128x128\"\n",
    "IMAGES_DIRECTORY_PATH = f\"/Users/ma/Documents/samThesis/segment-anything/notebooks/shapes/shapes_dataset_{dataset_size}/dataset/images\"\n",
    "\n",
    "# Ensure directory exists before selecting an image\n",
    "if os.path.exists(IMAGES_DIRECTORY_PATH) and os.listdir(IMAGES_DIRECTORY_PATH):\n",
    "    IMAGE_NAME = random.choice(os.listdir(IMAGES_DIRECTORY_PATH))\n",
    "    IMAGE_PATH = os.path.join(IMAGES_DIRECTORY_PATH, IMAGE_NAME)\n",
    "    print(f\"✅ Using Image: {IMAGE_PATH}\")\n",
    "else:\n",
    "    print(f\"❌ ERROR: No images found in {IMAGES_DIRECTORY_PATH}\")"
   ]
  },
  {
   "cell_type": "markdown",
   "metadata": {
    "id": "XdgL88fUuelk"
   },
   "source": [
    "### Generate masks with SAM"
   ]
  },
  {
   "cell_type": "markdown",
   "metadata": {},
   "source": [
    "#### import matplotlib.pyplot as plt\n",
    "\n",
    "plt.figure(figsize=(12, 6))\n",
    "\n",
    "# Plot Ground Truth Mask\n",
    "plt.subplot(1, 2, 1)\n",
    "plt.imshow(gt_mask, cmap='gray')\n",
    "plt.title(\"Ground Truth Mask\")\n",
    "plt.axis(\"off\")\n",
    "\n",
    "# Plot Predicted Mask\n",
    "plt.subplot(1, 2, 2)\n",
    "plt.imshow(predicted_mask, cmap='gray')\n",
    "plt.title(\"Predicted Mask\")\n",
    "plt.axis(\"off\")\n",
    "\n",
    "plt.show() "
   ]
  },
  {
   "cell_type": "code",
   "execution_count": 77,
   "metadata": {
    "colab": {
     "base_uri": "https://localhost:8080/",
     "height": 539
    },
    "id": "u34UjLT8o7iC",
    "outputId": "7cbe4319-0afe-4d69-cc59-35bac916b435"
   },
   "outputs": [
    {
     "data": {
      "image/png": "[encoded data removed]",
      "text/plain": [
       "<Figure size 600x600 with 1 Axes>"
      ]
     },
     "metadata": {},
     "output_type": "display_data"
    },
    {
     "name": "stdout",
     "output_type": "stream",
     "text": [
      "✅ Total detected masks: 21\n",
      "🔹 IoU: 0.0015, Dice Score: 0.0029\n"
     ]
    }
   ],
   "source": [
    "import cv2\n",
    "import supervision as sv\n",
    "import matplotlib.pyplot as plt\n",
    "\n",
    "# Load the selected image\n",
    "image_bgr = cv2.imread(IMAGE_PATH)\n",
    "image_rgb = cv2.cvtColor(image_bgr, cv2.COLOR_BGR2RGB)\n",
    "\n",
    "# Display the selected image before segmentation\n",
    "plt.figure(figsize=(6, 6))\n",
    "plt.imshow(cv2.cvtColor(image_bgr, cv2.COLOR_BGR2RGB))\n",
    "plt.title(\"Selected Image for Segmentation\")\n",
    "plt.axis(\"off\")\n",
    "plt.show()\n",
    "\n",
    "# Generate segmentation masks\n",
    "sam_result = mask_generator.generate(image_rgb)\n",
    "\n",
    "\n",
    "print(f\"✅ Total detected masks: {len(sam_result)}\")\n",
    "\n",
    "# Convert SAM output to binary mask\n",
    "predicted_mask = sam_result[0]['segmentation']  # Assuming first mask\n",
    "predicted_mask = torch.tensor(predicted_mask).bool()\n",
    "\n",
    "# Load the ground truth mask from COCO annotations\n",
    "gt_mask = None\n",
    "for ann in coco_data[\"annotations\"]:\n",
    "    if ann[\"image_id\"] == image_info[\"id\"]:\n",
    "        gt_mask = np.zeros((image.shape[0], image.shape[1]), dtype=np.uint8)\n",
    "        segmentation = np.array(ann[\"segmentation\"][0]).reshape(-1, 2)\n",
    "        cv2.fillPoly(gt_mask, [segmentation.astype(np.int32)], color=1)\n",
    "        gt_mask = torch.tensor(gt_mask).bool()\n",
    "        break\n",
    "\n",
    "# Ensure ground truth mask exists\n",
    "if gt_mask is not None:\n",
    "    # Compute IoU & Dice Score\n",
    "    iou_score = compute_iou(predicted_mask, gt_mask)\n",
    "    dice_score = compute_dice(predicted_mask, gt_mask)\n",
    "\n",
    "    # Print the results\n",
    "    print(f\"🔹 IoU: {iou_score:.4f}, Dice Score: {dice_score:.4f}\")\n",
    "else:\n",
    "    print(\"❌ No ground truth mask found for this image.\")"
   ]
  },
  {
   "cell_type": "markdown",
   "metadata": {
    "id": "fUNhAvdPjZ-Y"
   },
   "source": [
    "### Output format"
   ]
  },
  {
   "cell_type": "markdown",
   "metadata": {
    "id": "fxO265XOymA2"
   },
   "source": [
    "`SamAutomaticMaskGenerator` returns a `list` of masks, where each mask is a `dict` containing various information about the mask:\n",
    "\n",
    "* `segmentation` - `[np.ndarray]` - the mask with `(W, H)` shape, and `bool` type\n",
    "* `area` - `[int]` - the area of the mask in pixels\n",
    "* `bbox` - `[List[int]]` - the boundary box of the mask in `xywh` format\n",
    "* `predicted_iou` - `[float]` - the model's own prediction for the quality of the mask\n",
    "* `point_coords` - `[List[List[float]]]` - the sampled input point that generated this mask\n",
    "* `stability_score` - `[float]` - an additional measure of mask quality\n",
    "* `crop_box` - `List[int]` - the crop of the image used to generate this mask in `xywh` format"
   ]
  },
  {
   "cell_type": "code",
   "execution_count": 80,
   "metadata": {
    "colab": {
     "base_uri": "https://localhost:8080/"
    },
    "id": "FRiwoYNEzbBN",
    "outputId": "a754cef0-fa5c-4563-893e-74b0bdb531d1"
   },
   "outputs": [
    {
     "name": "stdout",
     "output_type": "stream",
     "text": [
      "dict_keys(['segmentation', 'area', 'bbox', 'predicted_iou', 'point_coords', 'stability_score', 'crop_box'])\n"
     ]
    }
   ],
   "source": [
    "print(sam_result[0].keys())"
   ]
  },
  {
   "cell_type": "markdown",
   "metadata": {
    "id": "qkNDZqBEj5Cr"
   },
   "source": [
    "### Results visualisation with Supervision\n",
    "\n",
    "As of version `0.5.0` Supervision has native support for SAM."
   ]
  },
  {
   "cell_type": "code",
   "execution_count": 84,
   "metadata": {
    "colab": {
     "base_uri": "https://localhost:8080/",
     "height": 455
    },
    "id": "bdT3xT2AkS4g",
    "outputId": "30b18c45-f0d5-4245-dae9-35bae7ecbc2b"
   },
   "outputs": [
    {
     "name": "stdout",
     "output_type": "stream",
     "text": [
      "✅ Total detected masks: 21\n"
     ]
    },
    {
     "data": {
      "image/png": "[encoded data removed]",
      "text/plain": [
       "<Figure size 1200x600 with 2 Axes>"
      ]
     },
     "metadata": {},
     "output_type": "display_data"
    }
   ],
   "source": [
    "import supervision as sv\n",
    "import matplotlib.pyplot as plt\n",
    "\n",
    "print(f\"✅ Total detected masks: {len(sam_result)}\")\n",
    "\n",
    "# Create a mask annotator\n",
    "mask_annotator = sv.MaskAnnotator(color_lookup=sv.ColorLookup.INDEX)\n",
    "\n",
    "# Convert SAM output to supervision-compatible format\n",
    "detections = sv.Detections.from_sam(sam_result=sam_result)  # Use all masks, no filtering\n",
    "\n",
    "# Annotate the image with segmentation masks\n",
    "annotated_image = mask_annotator.annotate(scene=image_bgr.copy(), detections=detections)\n",
    "\n",
    "# Display original and segmented images side by side\n",
    "plt.figure(figsize=(12, 6))\n",
    "\n",
    "# Original Image\n",
    "plt.subplot(1, 2, 1)\n",
    "plt.imshow(image_rgb)\n",
    "plt.title(\"Original Image\")\n",
    "plt.axis(\"off\")\n",
    "\n",
    "# Segmented Image\n",
    "plt.subplot(1, 2, 2)\n",
    "plt.imshow(annotated_image)\n",
    "plt.title(f\"Segmented Image - {len(sam_result)} masks\")\n",
    "plt.axis(\"off\")\n",
    "\n",
    "plt.show()\n"
   ]
  },
  {
   "cell_type": "markdown",
   "metadata": {
    "id": "HsdFDDQnjhkP"
   },
   "source": [
    "### Interaction with segmentation results"
   ]
  },
  {
   "cell_type": "code",
   "execution_count": 87,
   "metadata": {
    "colab": {
     "base_uri": "https://localhost:8080/",
     "height": 863
    },
    "id": "CS_WhY60XMNL",
    "outputId": "a7b54ebe-686c-4b1e-8c96-8c3ae93bf157"
   },
   "outputs": [
    {
     "data": {
      "image/png": "[encoded data removed]",
      "text/plain": [
       "<Figure size 1600x1600 with 24 Axes>"
      ]
     },
     "metadata": {},
     "output_type": "display_data"
    }
   ],
   "source": [
    "# Show all masks without filtering\n",
    "masks = [mask['segmentation'] for mask in sam_result]\n",
    "\n",
    "# Calculate grid size dynamically\n",
    "num_masks = len(masks)\n",
    "grid_cols = min(8, num_masks)  # Limit columns to a max of 8\n",
    "grid_rows = (num_masks // grid_cols) + (num_masks % grid_cols > 0)  # Ensure all images fit\n",
    "\n",
    "# Display masks in a properly sized grid\n",
    "sv.plot_images_grid(\n",
    "    images=masks,\n",
    "    grid_size=(grid_rows, grid_cols),  # Auto-adjusted grid size\n",
    "    size=(16, 16)\n",
    ")"
   ]
  },
  {
   "cell_type": "markdown",
   "metadata": {
    "id": "NXKPiidy9nwH"
   },
   "source": [
    "## Generate Segmentation with Bounding Box\n",
    "\n",
    "The `SamPredictor` class provides an easy interface to the model for prompting the model. It allows the user to first set an image using the `set_image` method, which calculates the necessary image embeddings. Then, prompts can be provided via the `predict` method to efficiently predict masks from those prompts. The model can take as input both point and box prompts, as well as masks from the previous iteration of prediction."
   ]
  },
  {
   "cell_type": "code",
   "execution_count": 90,
   "metadata": {
    "id": "LU1SN8_WCLny"
   },
   "outputs": [],
   "source": [
    "mask_predictor = SamPredictor(sam)"
   ]
  },
  {
   "cell_type": "code",
   "execution_count": 92,
   "metadata": {
    "colab": {
     "base_uri": "https://localhost:8080/"
    },
    "id": "QcHT2Jr0u0_K",
    "outputId": "da7eee9c-8fcb-4e9c-f8e2-2d5510e903dd"
   },
   "outputs": [
    {
     "name": "stdout",
     "output_type": "stream",
     "text": [
      "✅ Using Image: /Users/ma/Documents/samThesis/segment-anything/notebooks/shapes/shapes_dataset_128x128/dataset/images/shapes_66.png\n"
     ]
    }
   ],
   "source": [
    "import os\n",
    "import random\n",
    "\n",
    "# Verify the images directory exists\n",
    "if not os.path.exists(IMAGES_DIRECTORY_PATH):\n",
    "    print(f\"❌ ERROR: Images directory does not exist: {IMAGES_DIRECTORY_PATH}\")\n",
    "else:\n",
    "    # Load image filenames\n",
    "    IMAGES = os.listdir(IMAGES_DIRECTORY_PATH)\n",
    "\n",
    "    if len(IMAGES) == 0:\n",
    "        print(\"❌ ERROR: No images found in the dataset folder.\")\n",
    "    else:\n",
    "        # Pick a random image\n",
    "        IMAGE_NAME = random.choice(IMAGES)\n",
    "        IMAGE_PATH = os.path.join(IMAGES_DIRECTORY_PATH, IMAGE_NAME)\n",
    "\n",
    "        print(f\"✅ Using Image: {IMAGE_PATH}\")"
   ]
  },
  {
   "cell_type": "markdown",
   "metadata": {
    "id": "qS27Xlnb7MAj"
   },
   "source": [
    "### Draw Box\n",
    "\n"
   ]
  },
  {
   "cell_type": "code",
   "execution_count": 95,
   "metadata": {
    "id": "WSwoXkDi9uVD"
   },
   "outputs": [],
   "source": [
    "# helper function that loads an image before adding it to the widget\n",
    "\n",
    "import base64\n",
    "\n",
    "def encode_image(filepath):\n",
    "    with open(filepath, 'rb') as f:\n",
    "        image_bytes = f.read()\n",
    "    encoded = str(base64.b64encode(image_bytes), 'utf-8')\n",
    "    return \"data:image/jpg;base64,\"+encoded"
   ]
  },
  {
   "cell_type": "markdown",
   "metadata": {
    "id": "xFGBhRQNC0-H"
   },
   "source": [
    "**NOTE:** Execute cell below and use your mouse to draw bounding box on the image 👇"
   ]
  },
  {
   "cell_type": "code",
   "execution_count": 98,
   "metadata": {
    "colab": {
     "base_uri": "https://localhost:8080/",
     "height": 114,
     "referenced_widgets": [
      "130477048d8c40d088a2bc20cc00326c",
      "3984c31666a94bda86291ac05194eff5"
     ]
    },
    "id": "Zieb7wDZCoj2",
    "outputId": "2c56c611-d3ac-4160-bdc0-4e183100385d"
   },
   "outputs": [
    {
     "name": "stdout",
     "output_type": "stream",
     "text": [
      "✅ Running in Local Jupyter Notebook\n"
     ]
    }
   ],
   "source": [
    "import os\n",
    "\n",
    "# Automatically detect the environment\n",
    "try:\n",
    "    import google.colab\n",
    "    IS_COLAB = True\n",
    "    from google.colab import output\n",
    "    output.enable_custom_widget_manager()\n",
    "    print(\"✅ Running in Google Colab\")\n",
    "except ImportError:\n",
    "    IS_COLAB = False\n",
    "    print(\"✅ Running in Local Jupyter Notebook\")"
   ]
  },
  {
   "cell_type": "code",
   "execution_count": 100,
   "metadata": {},
   "outputs": [
    {
     "name": "stdout",
     "output_type": "stream",
     "text": [
      "Requirement already satisfied: jupyter_bbox_widget in /opt/anaconda3/lib/python3.12/site-packages (0.6.0)\n",
      "Requirement already satisfied: anywidget>=0.9.0 in /opt/anaconda3/lib/python3.12/site-packages (from jupyter_bbox_widget) (0.9.13)\n",
      "Requirement already satisfied: ipywidgets>=7.6.0 in /opt/anaconda3/lib/python3.12/site-packages (from anywidget>=0.9.0->jupyter_bbox_widget) (7.8.1)\n",
      "Requirement already satisfied: psygnal>=0.8.1 in /opt/anaconda3/lib/python3.12/site-packages (from anywidget>=0.9.0->jupyter_bbox_widget) (0.12.0)\n",
      "Requirement already satisfied: typing-extensions>=4.2.0 in /opt/anaconda3/lib/python3.12/site-packages (from anywidget>=0.9.0->jupyter_bbox_widget) (4.11.0)\n",
      "Requirement already satisfied: comm>=0.1.3 in /opt/anaconda3/lib/python3.12/site-packages (from ipywidgets>=7.6.0->anywidget>=0.9.0->jupyter_bbox_widget) (0.2.1)\n",
      "Requirement already satisfied: ipython-genutils~=0.2.0 in /opt/anaconda3/lib/python3.12/site-packages (from ipywidgets>=7.6.0->anywidget>=0.9.0->jupyter_bbox_widget) (0.2.0)\n",
      "Requirement already satisfied: traitlets>=4.3.1 in /opt/anaconda3/lib/python3.12/site-packages (from ipywidgets>=7.6.0->anywidget>=0.9.0->jupyter_bbox_widget) (5.14.3)\n",
      "Requirement already satisfied: widgetsnbextension~=3.6.6 in /opt/anaconda3/lib/python3.12/site-packages (from ipywidgets>=7.6.0->anywidget>=0.9.0->jupyter_bbox_widget) (3.6.6)\n",
      "Requirement already satisfied: ipython>=4.0.0 in /opt/anaconda3/lib/python3.12/site-packages (from ipywidgets>=7.6.0->anywidget>=0.9.0->jupyter_bbox_widget) (8.27.0)\n",
      "Requirement already satisfied: jupyterlab-widgets<3,>=1.0.0 in /opt/anaconda3/lib/python3.12/site-packages (from ipywidgets>=7.6.0->anywidget>=0.9.0->jupyter_bbox_widget) (1.0.0)\n",
      "Requirement already satisfied: decorator in /opt/anaconda3/lib/python3.12/site-packages (from ipython>=4.0.0->ipywidgets>=7.6.0->anywidget>=0.9.0->jupyter_bbox_widget) (5.1.1)\n",
      "Requirement already satisfied: jedi>=0.16 in /opt/anaconda3/lib/python3.12/site-packages (from ipython>=4.0.0->ipywidgets>=7.6.0->anywidget>=0.9.0->jupyter_bbox_widget) (0.19.1)\n",
      "Requirement already satisfied: matplotlib-inline in /opt/anaconda3/lib/python3.12/site-packages (from ipython>=4.0.0->ipywidgets>=7.6.0->anywidget>=0.9.0->jupyter_bbox_widget) (0.1.6)\n",
      "Requirement already satisfied: prompt-toolkit<3.1.0,>=3.0.41 in /opt/anaconda3/lib/python3.12/site-packages (from ipython>=4.0.0->ipywidgets>=7.6.0->anywidget>=0.9.0->jupyter_bbox_widget) (3.0.43)\n",
      "Requirement already satisfied: pygments>=2.4.0 in /opt/anaconda3/lib/python3.12/site-packages (from ipython>=4.0.0->ipywidgets>=7.6.0->anywidget>=0.9.0->jupyter_bbox_widget) (2.15.1)\n",
      "Requirement already satisfied: stack-data in /opt/anaconda3/lib/python3.12/site-packages (from ipython>=4.0.0->ipywidgets>=7.6.0->anywidget>=0.9.0->jupyter_bbox_widget) (0.2.0)\n",
      "Requirement already satisfied: pexpect>4.3 in /opt/anaconda3/lib/python3.12/site-packages (from ipython>=4.0.0->ipywidgets>=7.6.0->anywidget>=0.9.0->jupyter_bbox_widget) (4.8.0)\n",
      "Requirement already satisfied: notebook>=4.4.1 in /opt/anaconda3/lib/python3.12/site-packages (from widgetsnbextension~=3.6.6->ipywidgets>=7.6.0->anywidget>=0.9.0->jupyter_bbox_widget) (7.2.2)\n",
      "Requirement already satisfied: parso<0.9.0,>=0.8.3 in /opt/anaconda3/lib/python3.12/site-packages (from jedi>=0.16->ipython>=4.0.0->ipywidgets>=7.6.0->anywidget>=0.9.0->jupyter_bbox_widget) (0.8.3)\n",
      "Requirement already satisfied: jupyter-server<3,>=2.4.0 in /opt/anaconda3/lib/python3.12/site-packages (from notebook>=4.4.1->widgetsnbextension~=3.6.6->ipywidgets>=7.6.0->anywidget>=0.9.0->jupyter_bbox_widget) (2.14.1)\n",
      "Requirement already satisfied: jupyterlab-server<3,>=2.27.1 in /opt/anaconda3/lib/python3.12/site-packages (from notebook>=4.4.1->widgetsnbextension~=3.6.6->ipywidgets>=7.6.0->anywidget>=0.9.0->jupyter_bbox_widget) (2.27.3)\n",
      "Requirement already satisfied: jupyterlab<4.3,>=4.2.0 in /opt/anaconda3/lib/python3.12/site-packages (from notebook>=4.4.1->widgetsnbextension~=3.6.6->ipywidgets>=7.6.0->anywidget>=0.9.0->jupyter_bbox_widget) (4.2.5)\n",
      "Requirement already satisfied: notebook-shim<0.3,>=0.2 in /opt/anaconda3/lib/python3.12/site-packages (from notebook>=4.4.1->widgetsnbextension~=3.6.6->ipywidgets>=7.6.0->anywidget>=0.9.0->jupyter_bbox_widget) (0.2.3)\n",
      "Requirement already satisfied: tornado>=6.2.0 in /opt/anaconda3/lib/python3.12/site-packages (from notebook>=4.4.1->widgetsnbextension~=3.6.6->ipywidgets>=7.6.0->anywidget>=0.9.0->jupyter_bbox_widget) (6.4.1)\n",
      "Requirement already satisfied: ptyprocess>=0.5 in /opt/anaconda3/lib/python3.12/site-packages (from pexpect>4.3->ipython>=4.0.0->ipywidgets>=7.6.0->anywidget>=0.9.0->jupyter_bbox_widget) (0.7.0)\n",
      "Requirement already satisfied: wcwidth in /opt/anaconda3/lib/python3.12/site-packages (from prompt-toolkit<3.1.0,>=3.0.41->ipython>=4.0.0->ipywidgets>=7.6.0->anywidget>=0.9.0->jupyter_bbox_widget) (0.2.5)\n",
      "Requirement already satisfied: executing in /opt/anaconda3/lib/python3.12/site-packages (from stack-data->ipython>=4.0.0->ipywidgets>=7.6.0->anywidget>=0.9.0->jupyter_bbox_widget) (0.8.3)\n",
      "Requirement already satisfied: asttokens in /opt/anaconda3/lib/python3.12/site-packages (from stack-data->ipython>=4.0.0->ipywidgets>=7.6.0->anywidget>=0.9.0->jupyter_bbox_widget) (2.0.5)\n",
      "Requirement already satisfied: pure-eval in /opt/anaconda3/lib/python3.12/site-packages (from stack-data->ipython>=4.0.0->ipywidgets>=7.6.0->anywidget>=0.9.0->jupyter_bbox_widget) (0.2.2)\n",
      "Requirement already satisfied: anyio>=3.1.0 in /opt/anaconda3/lib/python3.12/site-packages (from jupyter-server<3,>=2.4.0->notebook>=4.4.1->widgetsnbextension~=3.6.6->ipywidgets>=7.6.0->anywidget>=0.9.0->jupyter_bbox_widget) (4.2.0)\n",
      "Requirement already satisfied: argon2-cffi>=21.1 in /opt/anaconda3/lib/python3.12/site-packages (from jupyter-server<3,>=2.4.0->notebook>=4.4.1->widgetsnbextension~=3.6.6->ipywidgets>=7.6.0->anywidget>=0.9.0->jupyter_bbox_widget) (21.3.0)\n",
      "Requirement already satisfied: jinja2>=3.0.3 in /opt/anaconda3/lib/python3.12/site-packages (from jupyter-server<3,>=2.4.0->notebook>=4.4.1->widgetsnbextension~=3.6.6->ipywidgets>=7.6.0->anywidget>=0.9.0->jupyter_bbox_widget) (3.1.4)\n",
      "Requirement already satisfied: jupyter-client>=7.4.4 in /opt/anaconda3/lib/python3.12/site-packages (from jupyter-server<3,>=2.4.0->notebook>=4.4.1->widgetsnbextension~=3.6.6->ipywidgets>=7.6.0->anywidget>=0.9.0->jupyter_bbox_widget) (8.6.0)\n",
      "Requirement already satisfied: jupyter-core!=5.0.*,>=4.12 in /opt/anaconda3/lib/python3.12/site-packages (from jupyter-server<3,>=2.4.0->notebook>=4.4.1->widgetsnbextension~=3.6.6->ipywidgets>=7.6.0->anywidget>=0.9.0->jupyter_bbox_widget) (5.7.2)\n",
      "Requirement already satisfied: jupyter-events>=0.9.0 in /opt/anaconda3/lib/python3.12/site-packages (from jupyter-server<3,>=2.4.0->notebook>=4.4.1->widgetsnbextension~=3.6.6->ipywidgets>=7.6.0->anywidget>=0.9.0->jupyter_bbox_widget) (0.10.0)\n",
      "Requirement already satisfied: jupyter-server-terminals>=0.4.4 in /opt/anaconda3/lib/python3.12/site-packages (from jupyter-server<3,>=2.4.0->notebook>=4.4.1->widgetsnbextension~=3.6.6->ipywidgets>=7.6.0->anywidget>=0.9.0->jupyter_bbox_widget) (0.4.4)\n",
      "Requirement already satisfied: nbconvert>=6.4.4 in /opt/anaconda3/lib/python3.12/site-packages (from jupyter-server<3,>=2.4.0->notebook>=4.4.1->widgetsnbextension~=3.6.6->ipywidgets>=7.6.0->anywidget>=0.9.0->jupyter_bbox_widget) (7.16.4)\n",
      "Requirement already satisfied: nbformat>=5.3.0 in /opt/anaconda3/lib/python3.12/site-packages (from jupyter-server<3,>=2.4.0->notebook>=4.4.1->widgetsnbextension~=3.6.6->ipywidgets>=7.6.0->anywidget>=0.9.0->jupyter_bbox_widget) (5.10.4)\n",
      "Requirement already satisfied: overrides>=5.0 in /opt/anaconda3/lib/python3.12/site-packages (from jupyter-server<3,>=2.4.0->notebook>=4.4.1->widgetsnbextension~=3.6.6->ipywidgets>=7.6.0->anywidget>=0.9.0->jupyter_bbox_widget) (7.4.0)\n",
      "Requirement already satisfied: packaging>=22.0 in /opt/anaconda3/lib/python3.12/site-packages (from jupyter-server<3,>=2.4.0->notebook>=4.4.1->widgetsnbextension~=3.6.6->ipywidgets>=7.6.0->anywidget>=0.9.0->jupyter_bbox_widget) (24.1)\n",
      "Requirement already satisfied: prometheus-client>=0.9 in /opt/anaconda3/lib/python3.12/site-packages (from jupyter-server<3,>=2.4.0->notebook>=4.4.1->widgetsnbextension~=3.6.6->ipywidgets>=7.6.0->anywidget>=0.9.0->jupyter_bbox_widget) (0.14.1)\n",
      "Requirement already satisfied: pyzmq>=24 in /opt/anaconda3/lib/python3.12/site-packages (from jupyter-server<3,>=2.4.0->notebook>=4.4.1->widgetsnbextension~=3.6.6->ipywidgets>=7.6.0->anywidget>=0.9.0->jupyter_bbox_widget) (25.1.2)\n",
      "Requirement already satisfied: send2trash>=1.8.2 in /opt/anaconda3/lib/python3.12/site-packages (from jupyter-server<3,>=2.4.0->notebook>=4.4.1->widgetsnbextension~=3.6.6->ipywidgets>=7.6.0->anywidget>=0.9.0->jupyter_bbox_widget) (1.8.2)\n",
      "Requirement already satisfied: terminado>=0.8.3 in /opt/anaconda3/lib/python3.12/site-packages (from jupyter-server<3,>=2.4.0->notebook>=4.4.1->widgetsnbextension~=3.6.6->ipywidgets>=7.6.0->anywidget>=0.9.0->jupyter_bbox_widget) (0.17.1)\n",
      "Requirement already satisfied: websocket-client>=1.7 in /opt/anaconda3/lib/python3.12/site-packages (from jupyter-server<3,>=2.4.0->notebook>=4.4.1->widgetsnbextension~=3.6.6->ipywidgets>=7.6.0->anywidget>=0.9.0->jupyter_bbox_widget) (1.8.0)\n",
      "Requirement already satisfied: async-lru>=1.0.0 in /opt/anaconda3/lib/python3.12/site-packages (from jupyterlab<4.3,>=4.2.0->notebook>=4.4.1->widgetsnbextension~=3.6.6->ipywidgets>=7.6.0->anywidget>=0.9.0->jupyter_bbox_widget) (2.0.4)\n",
      "Requirement already satisfied: httpx>=0.25.0 in /opt/anaconda3/lib/python3.12/site-packages (from jupyterlab<4.3,>=4.2.0->notebook>=4.4.1->widgetsnbextension~=3.6.6->ipywidgets>=7.6.0->anywidget>=0.9.0->jupyter_bbox_widget) (0.27.0)\n",
      "Requirement already satisfied: ipykernel>=6.5.0 in /opt/anaconda3/lib/python3.12/site-packages (from jupyterlab<4.3,>=4.2.0->notebook>=4.4.1->widgetsnbextension~=3.6.6->ipywidgets>=7.6.0->anywidget>=0.9.0->jupyter_bbox_widget) (6.28.0)\n",
      "Requirement already satisfied: jupyter-lsp>=2.0.0 in /opt/anaconda3/lib/python3.12/site-packages (from jupyterlab<4.3,>=4.2.0->notebook>=4.4.1->widgetsnbextension~=3.6.6->ipywidgets>=7.6.0->anywidget>=0.9.0->jupyter_bbox_widget) (2.2.0)\n",
      "Requirement already satisfied: setuptools>=40.1.0 in /opt/anaconda3/lib/python3.12/site-packages (from jupyterlab<4.3,>=4.2.0->notebook>=4.4.1->widgetsnbextension~=3.6.6->ipywidgets>=7.6.0->anywidget>=0.9.0->jupyter_bbox_widget) (75.1.0)\n",
      "Requirement already satisfied: babel>=2.10 in /opt/anaconda3/lib/python3.12/site-packages (from jupyterlab-server<3,>=2.27.1->notebook>=4.4.1->widgetsnbextension~=3.6.6->ipywidgets>=7.6.0->anywidget>=0.9.0->jupyter_bbox_widget) (2.11.0)\n",
      "Requirement already satisfied: json5>=0.9.0 in /opt/anaconda3/lib/python3.12/site-packages (from jupyterlab-server<3,>=2.27.1->notebook>=4.4.1->widgetsnbextension~=3.6.6->ipywidgets>=7.6.0->anywidget>=0.9.0->jupyter_bbox_widget) (0.9.6)\n",
      "Requirement already satisfied: jsonschema>=4.18.0 in /opt/anaconda3/lib/python3.12/site-packages (from jupyterlab-server<3,>=2.27.1->notebook>=4.4.1->widgetsnbextension~=3.6.6->ipywidgets>=7.6.0->anywidget>=0.9.0->jupyter_bbox_widget) (4.23.0)\n",
      "Requirement already satisfied: requests>=2.31 in /opt/anaconda3/lib/python3.12/site-packages (from jupyterlab-server<3,>=2.27.1->notebook>=4.4.1->widgetsnbextension~=3.6.6->ipywidgets>=7.6.0->anywidget>=0.9.0->jupyter_bbox_widget) (2.32.3)\n",
      "Requirement already satisfied: six in /opt/anaconda3/lib/python3.12/site-packages (from asttokens->stack-data->ipython>=4.0.0->ipywidgets>=7.6.0->anywidget>=0.9.0->jupyter_bbox_widget) (1.16.0)\n",
      "Requirement already satisfied: idna>=2.8 in /opt/anaconda3/lib/python3.12/site-packages (from anyio>=3.1.0->jupyter-server<3,>=2.4.0->notebook>=4.4.1->widgetsnbextension~=3.6.6->ipywidgets>=7.6.0->anywidget>=0.9.0->jupyter_bbox_widget) (3.7)\n",
      "Requirement already satisfied: sniffio>=1.1 in /opt/anaconda3/lib/python3.12/site-packages (from anyio>=3.1.0->jupyter-server<3,>=2.4.0->notebook>=4.4.1->widgetsnbextension~=3.6.6->ipywidgets>=7.6.0->anywidget>=0.9.0->jupyter_bbox_widget) (1.3.0)\n",
      "Requirement already satisfied: argon2-cffi-bindings in /opt/anaconda3/lib/python3.12/site-packages (from argon2-cffi>=21.1->jupyter-server<3,>=2.4.0->notebook>=4.4.1->widgetsnbextension~=3.6.6->ipywidgets>=7.6.0->anywidget>=0.9.0->jupyter_bbox_widget) (21.2.0)\n",
      "Requirement already satisfied: pytz>=2015.7 in /opt/anaconda3/lib/python3.12/site-packages (from babel>=2.10->jupyterlab-server<3,>=2.27.1->notebook>=4.4.1->widgetsnbextension~=3.6.6->ipywidgets>=7.6.0->anywidget>=0.9.0->jupyter_bbox_widget) (2024.1)\n",
      "Requirement already satisfied: certifi in /opt/anaconda3/lib/python3.12/site-packages (from httpx>=0.25.0->jupyterlab<4.3,>=4.2.0->notebook>=4.4.1->widgetsnbextension~=3.6.6->ipywidgets>=7.6.0->anywidget>=0.9.0->jupyter_bbox_widget) (2025.1.31)\n",
      "Requirement already satisfied: httpcore==1.* in /opt/anaconda3/lib/python3.12/site-packages (from httpx>=0.25.0->jupyterlab<4.3,>=4.2.0->notebook>=4.4.1->widgetsnbextension~=3.6.6->ipywidgets>=7.6.0->anywidget>=0.9.0->jupyter_bbox_widget) (1.0.2)\n",
      "Requirement already satisfied: h11<0.15,>=0.13 in /opt/anaconda3/lib/python3.12/site-packages (from httpcore==1.*->httpx>=0.25.0->jupyterlab<4.3,>=4.2.0->notebook>=4.4.1->widgetsnbextension~=3.6.6->ipywidgets>=7.6.0->anywidget>=0.9.0->jupyter_bbox_widget) (0.14.0)\n",
      "Requirement already satisfied: appnope in /opt/anaconda3/lib/python3.12/site-packages (from ipykernel>=6.5.0->jupyterlab<4.3,>=4.2.0->notebook>=4.4.1->widgetsnbextension~=3.6.6->ipywidgets>=7.6.0->anywidget>=0.9.0->jupyter_bbox_widget) (0.1.3)\n",
      "Requirement already satisfied: debugpy>=1.6.5 in /opt/anaconda3/lib/python3.12/site-packages (from ipykernel>=6.5.0->jupyterlab<4.3,>=4.2.0->notebook>=4.4.1->widgetsnbextension~=3.6.6->ipywidgets>=7.6.0->anywidget>=0.9.0->jupyter_bbox_widget) (1.6.7)\n",
      "Requirement already satisfied: nest-asyncio in /opt/anaconda3/lib/python3.12/site-packages (from ipykernel>=6.5.0->jupyterlab<4.3,>=4.2.0->notebook>=4.4.1->widgetsnbextension~=3.6.6->ipywidgets>=7.6.0->anywidget>=0.9.0->jupyter_bbox_widget) (1.6.0)\n",
      "Requirement already satisfied: psutil in /opt/anaconda3/lib/python3.12/site-packages (from ipykernel>=6.5.0->jupyterlab<4.3,>=4.2.0->notebook>=4.4.1->widgetsnbextension~=3.6.6->ipywidgets>=7.6.0->anywidget>=0.9.0->jupyter_bbox_widget) (5.9.0)\n",
      "Requirement already satisfied: MarkupSafe>=2.0 in /opt/anaconda3/lib/python3.12/site-packages (from jinja2>=3.0.3->jupyter-server<3,>=2.4.0->notebook>=4.4.1->widgetsnbextension~=3.6.6->ipywidgets>=7.6.0->anywidget>=0.9.0->jupyter_bbox_widget) (2.1.3)\n",
      "Requirement already satisfied: attrs>=22.2.0 in /opt/anaconda3/lib/python3.12/site-packages (from jsonschema>=4.18.0->jupyterlab-server<3,>=2.27.1->notebook>=4.4.1->widgetsnbextension~=3.6.6->ipywidgets>=7.6.0->anywidget>=0.9.0->jupyter_bbox_widget) (23.1.0)\n",
      "Requirement already satisfied: jsonschema-specifications>=2023.03.6 in /opt/anaconda3/lib/python3.12/site-packages (from jsonschema>=4.18.0->jupyterlab-server<3,>=2.27.1->notebook>=4.4.1->widgetsnbextension~=3.6.6->ipywidgets>=7.6.0->anywidget>=0.9.0->jupyter_bbox_widget) (2023.7.1)\n",
      "Requirement already satisfied: referencing>=0.28.4 in /opt/anaconda3/lib/python3.12/site-packages (from jsonschema>=4.18.0->jupyterlab-server<3,>=2.27.1->notebook>=4.4.1->widgetsnbextension~=3.6.6->ipywidgets>=7.6.0->anywidget>=0.9.0->jupyter_bbox_widget) (0.30.2)\n",
      "Requirement already satisfied: rpds-py>=0.7.1 in /opt/anaconda3/lib/python3.12/site-packages (from jsonschema>=4.18.0->jupyterlab-server<3,>=2.27.1->notebook>=4.4.1->widgetsnbextension~=3.6.6->ipywidgets>=7.6.0->anywidget>=0.9.0->jupyter_bbox_widget) (0.10.6)\n",
      "Requirement already satisfied: python-dateutil>=2.8.2 in /opt/anaconda3/lib/python3.12/site-packages (from jupyter-client>=7.4.4->jupyter-server<3,>=2.4.0->notebook>=4.4.1->widgetsnbextension~=3.6.6->ipywidgets>=7.6.0->anywidget>=0.9.0->jupyter_bbox_widget) (2.9.0.post0)\n",
      "Requirement already satisfied: platformdirs>=2.5 in /opt/anaconda3/lib/python3.12/site-packages (from jupyter-core!=5.0.*,>=4.12->jupyter-server<3,>=2.4.0->notebook>=4.4.1->widgetsnbextension~=3.6.6->ipywidgets>=7.6.0->anywidget>=0.9.0->jupyter_bbox_widget) (3.10.0)\n",
      "Requirement already satisfied: python-json-logger>=2.0.4 in /opt/anaconda3/lib/python3.12/site-packages (from jupyter-events>=0.9.0->jupyter-server<3,>=2.4.0->notebook>=4.4.1->widgetsnbextension~=3.6.6->ipywidgets>=7.6.0->anywidget>=0.9.0->jupyter_bbox_widget) (2.0.7)\n",
      "Requirement already satisfied: pyyaml>=5.3 in /opt/anaconda3/lib/python3.12/site-packages (from jupyter-events>=0.9.0->jupyter-server<3,>=2.4.0->notebook>=4.4.1->widgetsnbextension~=3.6.6->ipywidgets>=7.6.0->anywidget>=0.9.0->jupyter_bbox_widget) (6.0.1)\n",
      "Requirement already satisfied: rfc3339-validator in /opt/anaconda3/lib/python3.12/site-packages (from jupyter-events>=0.9.0->jupyter-server<3,>=2.4.0->notebook>=4.4.1->widgetsnbextension~=3.6.6->ipywidgets>=7.6.0->anywidget>=0.9.0->jupyter_bbox_widget) (0.1.4)\n",
      "Requirement already satisfied: rfc3986-validator>=0.1.1 in /opt/anaconda3/lib/python3.12/site-packages (from jupyter-events>=0.9.0->jupyter-server<3,>=2.4.0->notebook>=4.4.1->widgetsnbextension~=3.6.6->ipywidgets>=7.6.0->anywidget>=0.9.0->jupyter_bbox_widget) (0.1.1)\n",
      "Requirement already satisfied: beautifulsoup4 in /opt/anaconda3/lib/python3.12/site-packages (from nbconvert>=6.4.4->jupyter-server<3,>=2.4.0->notebook>=4.4.1->widgetsnbextension~=3.6.6->ipywidgets>=7.6.0->anywidget>=0.9.0->jupyter_bbox_widget) (4.12.3)\n",
      "Requirement already satisfied: bleach!=5.0.0 in /opt/anaconda3/lib/python3.12/site-packages (from nbconvert>=6.4.4->jupyter-server<3,>=2.4.0->notebook>=4.4.1->widgetsnbextension~=3.6.6->ipywidgets>=7.6.0->anywidget>=0.9.0->jupyter_bbox_widget) (4.1.0)\n",
      "Requirement already satisfied: defusedxml in /opt/anaconda3/lib/python3.12/site-packages (from nbconvert>=6.4.4->jupyter-server<3,>=2.4.0->notebook>=4.4.1->widgetsnbextension~=3.6.6->ipywidgets>=7.6.0->anywidget>=0.9.0->jupyter_bbox_widget) (0.7.1)\n",
      "Requirement already satisfied: jupyterlab-pygments in /opt/anaconda3/lib/python3.12/site-packages (from nbconvert>=6.4.4->jupyter-server<3,>=2.4.0->notebook>=4.4.1->widgetsnbextension~=3.6.6->ipywidgets>=7.6.0->anywidget>=0.9.0->jupyter_bbox_widget) (0.1.2)\n",
      "Requirement already satisfied: mistune<4,>=2.0.3 in /opt/anaconda3/lib/python3.12/site-packages (from nbconvert>=6.4.4->jupyter-server<3,>=2.4.0->notebook>=4.4.1->widgetsnbextension~=3.6.6->ipywidgets>=7.6.0->anywidget>=0.9.0->jupyter_bbox_widget) (2.0.4)\n",
      "Requirement already satisfied: nbclient>=0.5.0 in /opt/anaconda3/lib/python3.12/site-packages (from nbconvert>=6.4.4->jupyter-server<3,>=2.4.0->notebook>=4.4.1->widgetsnbextension~=3.6.6->ipywidgets>=7.6.0->anywidget>=0.9.0->jupyter_bbox_widget) (0.8.0)\n",
      "Requirement already satisfied: pandocfilters>=1.4.1 in /opt/anaconda3/lib/python3.12/site-packages (from nbconvert>=6.4.4->jupyter-server<3,>=2.4.0->notebook>=4.4.1->widgetsnbextension~=3.6.6->ipywidgets>=7.6.0->anywidget>=0.9.0->jupyter_bbox_widget) (1.5.0)\n",
      "Requirement already satisfied: tinycss2 in /opt/anaconda3/lib/python3.12/site-packages (from nbconvert>=6.4.4->jupyter-server<3,>=2.4.0->notebook>=4.4.1->widgetsnbextension~=3.6.6->ipywidgets>=7.6.0->anywidget>=0.9.0->jupyter_bbox_widget) (1.2.1)\n",
      "Requirement already satisfied: fastjsonschema>=2.15 in /opt/anaconda3/lib/python3.12/site-packages (from nbformat>=5.3.0->jupyter-server<3,>=2.4.0->notebook>=4.4.1->widgetsnbextension~=3.6.6->ipywidgets>=7.6.0->anywidget>=0.9.0->jupyter_bbox_widget) (2.16.2)\n",
      "Requirement already satisfied: charset-normalizer<4,>=2 in /opt/anaconda3/lib/python3.12/site-packages (from requests>=2.31->jupyterlab-server<3,>=2.27.1->notebook>=4.4.1->widgetsnbextension~=3.6.6->ipywidgets>=7.6.0->anywidget>=0.9.0->jupyter_bbox_widget) (3.3.2)\n",
      "Requirement already satisfied: urllib3<3,>=1.21.1 in /opt/anaconda3/lib/python3.12/site-packages (from requests>=2.31->jupyterlab-server<3,>=2.27.1->notebook>=4.4.1->widgetsnbextension~=3.6.6->ipywidgets>=7.6.0->anywidget>=0.9.0->jupyter_bbox_widget) (2.2.3)\n",
      "Requirement already satisfied: webencodings in /opt/anaconda3/lib/python3.12/site-packages (from bleach!=5.0.0->nbconvert>=6.4.4->jupyter-server<3,>=2.4.0->notebook>=4.4.1->widgetsnbextension~=3.6.6->ipywidgets>=7.6.0->anywidget>=0.9.0->jupyter_bbox_widget) (0.5.1)\n",
      "Requirement already satisfied: fqdn in /opt/anaconda3/lib/python3.12/site-packages (from jsonschema[format-nongpl]>=4.18.0->jupyter-events>=0.9.0->jupyter-server<3,>=2.4.0->notebook>=4.4.1->widgetsnbextension~=3.6.6->ipywidgets>=7.6.0->anywidget>=0.9.0->jupyter_bbox_widget) (1.5.1)\n",
      "Requirement already satisfied: isoduration in /opt/anaconda3/lib/python3.12/site-packages (from jsonschema[format-nongpl]>=4.18.0->jupyter-events>=0.9.0->jupyter-server<3,>=2.4.0->notebook>=4.4.1->widgetsnbextension~=3.6.6->ipywidgets>=7.6.0->anywidget>=0.9.0->jupyter_bbox_widget) (20.11.0)\n",
      "Requirement already satisfied: jsonpointer>1.13 in /opt/anaconda3/lib/python3.12/site-packages (from jsonschema[format-nongpl]>=4.18.0->jupyter-events>=0.9.0->jupyter-server<3,>=2.4.0->notebook>=4.4.1->widgetsnbextension~=3.6.6->ipywidgets>=7.6.0->anywidget>=0.9.0->jupyter_bbox_widget) (2.1)\n",
      "Requirement already satisfied: uri-template in /opt/anaconda3/lib/python3.12/site-packages (from jsonschema[format-nongpl]>=4.18.0->jupyter-events>=0.9.0->jupyter-server<3,>=2.4.0->notebook>=4.4.1->widgetsnbextension~=3.6.6->ipywidgets>=7.6.0->anywidget>=0.9.0->jupyter_bbox_widget) (1.3.0)\n",
      "Requirement already satisfied: webcolors>=24.6.0 in /opt/anaconda3/lib/python3.12/site-packages (from jsonschema[format-nongpl]>=4.18.0->jupyter-events>=0.9.0->jupyter-server<3,>=2.4.0->notebook>=4.4.1->widgetsnbextension~=3.6.6->ipywidgets>=7.6.0->anywidget>=0.9.0->jupyter_bbox_widget) (24.11.1)\n",
      "Requirement already satisfied: cffi>=1.0.1 in /opt/anaconda3/lib/python3.12/site-packages (from argon2-cffi-bindings->argon2-cffi>=21.1->jupyter-server<3,>=2.4.0->notebook>=4.4.1->widgetsnbextension~=3.6.6->ipywidgets>=7.6.0->anywidget>=0.9.0->jupyter_bbox_widget) (1.17.1)\n",
      "Requirement already satisfied: soupsieve>1.2 in /opt/anaconda3/lib/python3.12/site-packages (from beautifulsoup4->nbconvert>=6.4.4->jupyter-server<3,>=2.4.0->notebook>=4.4.1->widgetsnbextension~=3.6.6->ipywidgets>=7.6.0->anywidget>=0.9.0->jupyter_bbox_widget) (2.5)\n",
      "Requirement already satisfied: pycparser in /opt/anaconda3/lib/python3.12/site-packages (from cffi>=1.0.1->argon2-cffi-bindings->argon2-cffi>=21.1->jupyter-server<3,>=2.4.0->notebook>=4.4.1->widgetsnbextension~=3.6.6->ipywidgets>=7.6.0->anywidget>=0.9.0->jupyter_bbox_widget) (2.21)\n",
      "Requirement already satisfied: arrow>=0.15.0 in /opt/anaconda3/lib/python3.12/site-packages (from isoduration->jsonschema[format-nongpl]>=4.18.0->jupyter-events>=0.9.0->jupyter-server<3,>=2.4.0->notebook>=4.4.1->widgetsnbextension~=3.6.6->ipywidgets>=7.6.0->anywidget>=0.9.0->jupyter_bbox_widget) (1.2.3)\n"
     ]
    }
   ],
   "source": [
    "!pip install jupyter_bbox_widget"
   ]
  },
  {
   "cell_type": "code",
   "execution_count": 101,
   "metadata": {},
   "outputs": [
    {
     "data": {
      "application/vnd.jupyter.widget-view+json": {
       "model_id": "f5f224d6d52a43a787ce8bc9ceec7336",
       "version_major": 2,
       "version_minor": 0
      },
      "text/plain": [
       "BBoxWidget(colors=['#1f77b4', '#ff7f0e', '#2ca02c', '#d62728', '#9467bd', '#8c564b', '#e377c2', '#7f7f7f', '#b…"
      ]
     },
     "metadata": {},
     "output_type": "display_data"
    }
   ],
   "source": [
    "from jupyter_bbox_widget import BBoxWidget\n",
    "\n",
    "widget = BBoxWidget()\n",
    "widget.image = encode_image(IMAGE_PATH)\n",
    "widget"
   ]
  },
  {
   "cell_type": "code",
   "execution_count": 104,
   "metadata": {
    "colab": {
     "base_uri": "https://localhost:8080/"
    },
    "id": "sSAhAXOULj0t",
    "outputId": "b4be191d-aa1a-48db-a891-5df7a138bcd1"
   },
   "outputs": [
    {
     "data": {
      "text/plain": [
       "[]"
      ]
     },
     "execution_count": 104,
     "metadata": {},
     "output_type": "execute_result"
    }
   ],
   "source": [
    "widget.bboxes"
   ]
  },
  {
   "cell_type": "markdown",
   "metadata": {
    "id": "Wsy-GikiuX5l"
   },
   "source": [
    "### Generate masks with SAM"
   ]
  },
  {
   "cell_type": "markdown",
   "metadata": {
    "id": "Rqxt0CdkFUf8"
   },
   "source": [
    "**NOTE:** `SamPredictor.predict` method takes `np.ndarray` `box` argument in `[x_min, y_min, x_max, y_max]` format. Let's reorganise your data first"
   ]
  },
  {
   "cell_type": "code",
   "execution_count": 108,
   "metadata": {
    "id": "WYyhnP4xFO5_"
   },
   "outputs": [],
   "source": [
    "import numpy as np\n",
    "\n",
    "# default_box is going to be used if you will not draw any box on image above\n",
    "default_box = {'x': 68, 'y': 247, 'width': 555, 'height': 678, 'label': ''}\n",
    "\n",
    "box = widget.bboxes[0] if widget.bboxes else default_box\n",
    "box = np.array([\n",
    "    box['x'],\n",
    "    box['y'],\n",
    "    box['x'] + box['width'],\n",
    "    box['y'] + box['height']\n",
    "])"
   ]
  },
  {
   "cell_type": "code",
   "execution_count": 110,
   "metadata": {
    "id": "NGxKHiK2uqtE"
   },
   "outputs": [],
   "source": [
    "import cv2\n",
    "import numpy as np\n",
    "import supervision as sv\n",
    "\n",
    "image_bgr = cv2.imread(IMAGE_PATH)\n",
    "image_rgb = cv2.cvtColor(image_bgr, cv2.COLOR_BGR2RGB)\n",
    "\n",
    "mask_predictor.set_image(image_rgb)\n",
    "\n",
    "masks, scores, logits = mask_predictor.predict(\n",
    "    box=box,\n",
    "    multimask_output=True\n",
    ")"
   ]
  },
  {
   "cell_type": "markdown",
   "metadata": {
    "id": "kV_JOjHBNnV5"
   },
   "source": [
    "### Results visualisation with Supervision"
   ]
  },
  {
   "cell_type": "code",
   "execution_count": 113,
   "metadata": {
    "colab": {
     "base_uri": "https://localhost:8080/",
     "height": 437
    },
    "id": "U2opSwP1Np7s",
    "outputId": "cfb5a3b8-4bc8-497f-e3b7-87d1c45030b2"
   },
   "outputs": [
    {
     "data": {
      "image/png": "[encoded data removed]",
      "text/plain": [
       "<Figure size 1200x1200 with 2 Axes>"
      ]
     },
     "metadata": {},
     "output_type": "display_data"
    }
   ],
   "source": [
    "box_annotator = sv.BoxAnnotator(color=sv.Color.RED, color_lookup=sv.ColorLookup.INDEX)\n",
    "mask_annotator = sv.MaskAnnotator(color=sv.Color.RED, color_lookup=sv.ColorLookup.INDEX)\n",
    "\n",
    "detections = sv.Detections(\n",
    "    xyxy=sv.mask_to_xyxy(masks=masks),\n",
    "    mask=masks\n",
    ")\n",
    "detections = detections[detections.area == np.max(detections.area)]\n",
    "\n",
    "source_image = box_annotator.annotate(scene=image_bgr.copy(), detections=detections)\n",
    "segmented_image = mask_annotator.annotate(scene=image_bgr.copy(), detections=detections)\n",
    "\n",
    "sv.plot_images_grid(\n",
    "    images=[source_image, segmented_image],\n",
    "    grid_size=(1, 2),\n",
    "    titles=['source image', 'segmented image']\n",
    ")"
   ]
  },
  {
   "cell_type": "markdown",
   "metadata": {
    "id": "hD2RsmjSH5Kh"
   },
   "source": [
    "### Interaction with segmentation results"
   ]
  },
  {
   "cell_type": "code",
   "execution_count": 116,
   "metadata": {
    "colab": {
     "base_uri": "https://localhost:8080/",
     "height": 240
    },
    "id": "e0Ts3OZ3MuzP",
    "outputId": "c251fe09-27ae-4c9f-c08e-8952b1d679c4"
   },
   "outputs": [
    {
     "data": {
      "image/png": "[encoded data removed]",
      "text/plain": [
       "<Figure size 1600x400 with 4 Axes>"
      ]
     },
     "metadata": {},
     "output_type": "display_data"
    }
   ],
   "source": [
    "import supervision as v\n",
    "\n",
    "sv.plot_images_grid(\n",
    "    images=masks,\n",
    "    grid_size=(1, 4),\n",
    "    size=(16, 4)\n",
    ")"
   ]
  },
  {
   "cell_type": "markdown",
   "metadata": {
    "id": "gP9gEw9Tp8GJ"
   },
   "source": [
    "## 🏆 Congratulations\n",
    "\n",
    "### Learning Resources\n",
    "\n",
    "Roboflow has produced many resources that you may find interesting as you advance your knowledge of computer vision:\n",
    "\n",
    "- [Roboflow Notebooks](https://github.com/roboflow/notebooks): A repository of over 20 notebooks that walk through how to train custom models with a range of model types, from YOLOv7 to SegFormer.\n",
    "- [Roboflow YouTube](https://www.youtube.com/c/Roboflow): Our library of videos featuring deep dives into the latest in computer vision, detailed tutorials that accompany our notebooks, and more.\n",
    "- [Roboflow Discuss](https://discuss.roboflow.com/): Have a question about how to do something on Roboflow? Ask your question on our discussion forum.\n",
    "- [Roboflow Models](https://roboflow.com): Learn about state-of-the-art models and their performance. Find links and tutorials to guide your learning.\n",
    "\n",
    "### Convert data formats\n",
    "\n",
    "Roboflow provides free utilities to convert data between dozens of popular computer vision formats. Check out [Roboflow Formats](https://roboflow.com/formats) to find tutorials on how to convert data between formats in a few clicks.\n",
    "\n",
    "### Connect computer vision to your project logic\n",
    "\n",
    "[Roboflow Templates](https://roboflow.com/templates) is a public gallery of code snippets that you can use to connect computer vision to your project logic. Code snippets range from sending emails after inference to measuring object distance between detections."
   ]
  },
  {
   "cell_type": "code",
   "execution_count": null,
   "metadata": {},
   "outputs": [],
   "source": []
  }
 ],
 "metadata": {
  "accelerator": "GPU",
  "colab": {
   "gpuType": "T4",
   "provenance": [],
   "toc_visible": true
  },
  "kernelspec": {
   "display_name": "Python [conda env:base] *",
   "language": "python",
   "name": "conda-base-py"
  },
  "language_info": {
   "codemirror_mode": {
    "name": "ipython",
    "version": 3
   },
   "file_extension": ".py",
   "mimetype": "text/x-python",
   "name": "python",
   "nbconvert_exporter": "python",
   "pygments_lexer": "ipython3",
   "version": "3.12.7"
  },
  "widgets": {
   "application/vnd.jupyter.widget-state+json": {
    "130477048d8c40d088a2bc20cc00326c": {
     "model_module": "anywidget",
     "model_module_version": "~0.9.*",
     "model_name": "AnyModel",
     "state": {
      "_anywidget_id": "jupyter_bbox_widget.bbox.BBoxWidget",
      "_css": "rect.movable.svelte-qvidok{cursor:move}.top.svelte-qvidok,.bottom.svelte-qvidok{cursor:row-resize}.left.svelte-qvidok,.right.svelte-qvidok{cursor:col-resize}.clickable.svelte-qvidok{cursor:pointer}.top-left.svelte-qvidok{cursor:nw-resize}.top-right.svelte-qvidok{cursor:ne-resize}.bottom-left.svelte-qvidok{cursor:sw-resize}.bottom-right.svelte-qvidok{cursor:se-resize}button.svelte-s4c08i{display:inline-block;background-color:#eee;width:148px;height:28px;line-height:28px;font-size:13px;padding:0 10px;white-space:nowrap;overflow:hidden;text-overflow:ellipsis;text-align:center;cursor:pointer;border:none;-webkit-user-select:none;user-select:none}button.svelte-s4c08i:hover{box-shadow:0 2px 2px #00000024,0 3px 1px -2px #0003,0 1px 5px #0000001f}button.svelte-s4c08i:active{background-color:#bdbdbd}button.success.svelte-s4c08i{background-color:#4caf50;color:#fff}button.success.svelte-s4c08i:active{background-color:#388e3c}.wrapper.svelte-n5k047{position:relative;margin:1px;padding:4px}.image.svelte-n5k047{position:relative}.image-measure.svelte-n5k047{display:table}img.svelte-n5k047{display:block;max-width:100%}svg.svelte-n5k047{position:absolute;top:0;left:0}.class-label.svelte-n5k047{cursor:pointer;border-radius:4px;padding:4px;margin:4px;display:inline-block}.classes.svelte-n5k047,.buttons.svelte-n5k047{margin-bottom:10px}span.key.svelte-n5k047{border:1px solid lightgray;color:gray;padding:0 3px;font-size:80%;border-radius:2px}\n",
      "_dom_classes": [],
      "_esm": "var Lt = Object.defineProperty;\nvar Wt = (e, t, n) => t in e ? Lt(e, t, { enumerable: !0, configurable: !0, writable: !0, value: n }) : e[t] = n;\nvar tt = (e, t, n) => Wt(e, typeof t != \"symbol\" ? t + \"\" : t, n);\nfunction $() {\n}\nconst At = (e) => e;\nfunction Bt(e) {\n  return e();\n}\nfunction ht() {\n  return /* @__PURE__ */ Object.create(null);\n}\nfunction ne(e) {\n  e.forEach(Bt);\n}\nfunction rt(e) {\n  return typeof e == \"function\";\n}\nfunction et(e, t) {\n  return e != e ? t == t : e !== t || e && typeof e == \"object\" || typeof e == \"function\";\n}\nlet Fe;\nfunction dt(e, t) {\n  return e === t ? !0 : (Fe || (Fe = document.createElement(\"a\")), Fe.href = t, e === Fe.href);\n}\nfunction Ut(e) {\n  return Object.keys(e).length === 0;\n}\nfunction jt(e, ...t) {\n  if (e == null) {\n    for (const l of t)\n      l(void 0);\n    return $;\n  }\n  const n = e.subscribe(...t);\n  return n.unsubscribe ? () => n.unsubscribe() : n;\n}\nfunction fe(e, t, n) {\n  e.$$.on_destroy.push(jt(t, n));\n}\nfunction gt(e) {\n  return e ?? \"\";\n}\nfunction I(e, t, n) {\n  return e.set(n), t;\n}\nconst zt = typeof window < \"u\";\nlet It = zt ? () => window.performance.now() : () => Date.now(), at = zt ? (e) => requestAnimationFrame(e) : $;\nconst ze = /* @__PURE__ */ new Set();\nfunction Dt(e) {\n  ze.forEach((t) => {\n    t.c(e) || (ze.delete(t), t.f());\n  }), ze.size !== 0 && at(Dt);\n}\nfunction Ft(e) {\n  let t;\n  return ze.size === 0 && at(Dt), {\n    promise: new Promise((n) => {\n      ze.add(t = { c: e, f: n });\n    }),\n    abort() {\n      ze.delete(t);\n    }\n  };\n}\nconst Vt = typeof window < \"u\" ? window : typeof globalThis < \"u\" ? globalThis : (\n  // @ts-ignore Node typings have this\n  global\n);\nfunction P(e, t) {\n  e.appendChild(t);\n}\nfunction Rt(e) {\n  if (!e) return document;\n  const t = e.getRootNode ? e.getRootNode() : e.ownerDocument;\n  return t && /** @type {ShadowRoot} */\n  t.host ? (\n    /** @type {ShadowRoot} */\n    t\n  ) : e.ownerDocument;\n}\nfunction Tt(e) {\n  const t = ee(\"style\");\n  return t.textContent = \"/* empty */\", Ht(Rt(e), t), t.sheet;\n}\nfunction Ht(e, t) {\n  return P(\n    /** @type {Document} */\n    e.head || e,\n    t\n  ), t.sheet;\n}\nfunction B(e, t, n) {\n  e.insertBefore(t, n || null);\n}\nfunction A(e) {\n  e.parentNode && e.parentNode.removeChild(e);\n}\nfunction Gt(e, t) {\n  for (let n = 0; n < e.length; n += 1)\n    e[n] && e[n].d(t);\n}\nfunction ee(e) {\n  return document.createElement(e);\n}\nfunction U(e) {\n  return document.createElementNS(\"http://www.w3.org/2000/svg\", e);\n}\nfunction Re(e) {\n  return document.createTextNode(e);\n}\nfunction L() {\n  return Re(\" \");\n}\nfunction Qt() {\n  return Re(\"\");\n}\nfunction X(e, t, n, l) {\n  return e.addEventListener(t, n, l), () => e.removeEventListener(t, n, l);\n}\nfunction o(e, t, n) {\n  n == null ? e.removeAttribute(t) : e.getAttribute(t) !== n && e.setAttribute(t, n);\n}\nfunction Jt(e) {\n  return Array.from(e.childNodes);\n}\nfunction Ge(e, t) {\n  t = \"\" + t, e.data !== t && (e.data = /** @type {string} */\n  t);\n}\nfunction R(e, t, n, l) {\n  n == null ? e.style.removeProperty(t) : e.style.setProperty(t, n, \"\");\n}\nlet Ve;\nfunction Zt() {\n  if (Ve === void 0) {\n    Ve = !1;\n    try {\n      typeof window < \"u\" && window.parent && window.parent.document;\n    } catch {\n      Ve = !0;\n    }\n  }\n  return Ve;\n}\nfunction $t(e, t) {\n  getComputedStyle(e).position === \"static\" && (e.style.position = \"relative\");\n  const l = ee(\"iframe\");\n  l.setAttribute(\n    \"style\",\n    \"display: block; position: absolute; top: 0; left: 0; width: 100%; height: 100%; overflow: hidden; border: 0; opacity: 0; pointer-events: none; z-index: -1;\"\n  ), l.setAttribute(\"aria-hidden\", \"true\"), l.tabIndex = -1;\n  const c = Zt();\n  let s;\n  return c ? (l.src = \"data:text/html,<script>onresize=function(){parent.postMessage(0,'*')}<\\/script>\", s = X(\n    window,\n    \"message\",\n    /** @param {MessageEvent} event */\n    (i) => {\n      i.source === l.contentWindow && t();\n    }\n  )) : (l.src = \"about:blank\", l.onload = () => {\n    s = X(l.contentWindow, \"resize\", t), t();\n  }), P(e, l), () => {\n    (c || s && l.contentWindow) && s(), A(l);\n  };\n}\nfunction Te(e, t, n) {\n  e.classList.toggle(t, !!n);\n}\nfunction Kt(e, t, { bubbles: n = !1, cancelable: l = !1 } = {}) {\n  return new CustomEvent(e, { detail: t, bubbles: n, cancelable: l });\n}\nconst Qe = /* @__PURE__ */ new Map();\nlet Je = 0;\nfunction xt(e) {\n  let t = 5381, n = e.length;\n  for (; n--; ) t = (t << 5) - t ^ e.charCodeAt(n);\n  return t >>> 0;\n}\nfunction en(e, t) {\n  const n = { stylesheet: Tt(t), rules: {} };\n  return Qe.set(e, n), n;\n}\nfunction mt(e, t, n, l, c, s, i, u = 0) {\n  const a = 16.666 / l;\n  let g = `{\n`;\n  for (let v = 0; v <= 1; v += a) {\n    const C = t + (n - t) * s(v);\n    g += v * 100 + `%{${i(C, 1 - C)}}\n`;\n  }\n  const E = g + `100% {${i(n, 1 - n)}}\n}`, w = `__svelte_${xt(E)}_${u}`, M = Rt(e), { stylesheet: m, rules: d } = Qe.get(M) || en(M, e);\n  d[w] || (d[w] = !0, m.insertRule(`@keyframes ${w} ${E}`, m.cssRules.length));\n  const q = e.style.animation || \"\";\n  return e.style.animation = `${q ? `${q}, ` : \"\"}${w} ${l}ms linear ${c}ms 1 both`, Je += 1, w;\n}\nfunction tn(e, t) {\n  const n = (e.style.animation || \"\").split(\", \"), l = n.filter(\n    t ? (s) => s.indexOf(t) < 0 : (s) => s.indexOf(\"__svelte\") === -1\n    // remove all Svelte animations\n  ), c = n.length - l.length;\n  c && (e.style.animation = l.join(\", \"), Je -= c, Je || nn());\n}\nfunction nn() {\n  at(() => {\n    Je || (Qe.forEach((e) => {\n      const { ownerNode: t } = e.stylesheet;\n      t && A(t);\n    }), Qe.clear());\n  });\n}\nlet We;\nfunction Le(e) {\n  We = e;\n}\nfunction Pt() {\n  if (!We) throw new Error(\"Function called outside component initialization\");\n  return We;\n}\nfunction ln(e) {\n  Pt().$$.on_mount.push(e);\n}\nfunction on() {\n  const e = Pt();\n  return (t, n, { cancelable: l = !1 } = {}) => {\n    const c = e.$$.callbacks[t];\n    if (c) {\n      const s = Kt(\n        /** @type {string} */\n        t,\n        n,\n        { cancelable: l }\n      );\n      return c.slice().forEach((i) => {\n        i.call(e, s);\n      }), !s.defaultPrevented;\n    }\n    return !0;\n  };\n}\nfunction sn(e, t) {\n  const n = e.$$.callbacks[t.type];\n  n && n.slice().forEach((l) => l.call(this, t));\n}\nconst Be = [], re = [];\nlet De = [];\nconst it = [], fn = /* @__PURE__ */ Promise.resolve();\nlet ot = !1;\nfunction un() {\n  ot || (ot = !0, fn.then(Nt));\n}\nfunction Ke(e) {\n  De.push(e);\n}\nfunction Oe(e) {\n  it.push(e);\n}\nconst nt = /* @__PURE__ */ new Set();\nlet Se = 0;\nfunction Nt() {\n  if (Se !== 0)\n    return;\n  const e = We;\n  do {\n    try {\n      for (; Se < Be.length; ) {\n        const t = Be[Se];\n        Se++, Le(t), rn(t.$$);\n      }\n    } catch (t) {\n      throw Be.length = 0, Se = 0, t;\n    }\n    for (Le(null), Be.length = 0, Se = 0; re.length; ) re.pop()();\n    for (let t = 0; t < De.length; t += 1) {\n      const n = De[t];\n      nt.has(n) || (nt.add(n), n());\n    }\n    De.length = 0;\n  } while (Be.length);\n  for (; it.length; )\n    it.pop()();\n  ot = !1, nt.clear(), Le(e);\n}\nfunction rn(e) {\n  if (e.fragment !== null) {\n    e.update(), ne(e.before_update);\n    const t = e.dirty;\n    e.dirty = [-1], e.fragment && e.fragment.p(e.ctx, t), e.after_update.forEach(Ke);\n  }\n}\nfunction an(e) {\n  const t = [], n = [];\n  De.forEach((l) => e.indexOf(l) === -1 ? t.push(l) : n.push(l)), n.forEach((l) => l()), De = t;\n}\nlet Xe;\nfunction _n() {\n  return Xe || (Xe = Promise.resolve(), Xe.then(() => {\n    Xe = null;\n  })), Xe;\n}\nfunction lt(e, t, n) {\n  e.dispatchEvent(Kt(`${t ? \"intro\" : \"outro\"}${n}`));\n}\nconst He = /* @__PURE__ */ new Set();\nlet ae;\nfunction st() {\n  ae = {\n    r: 0,\n    c: [],\n    p: ae\n    // parent group\n  };\n}\nfunction ft() {\n  ae.r || ne(ae.c), ae = ae.p;\n}\nfunction te(e, t) {\n  e && e.i && (He.delete(e), e.i(t));\n}\nfunction _e(e, t, n, l) {\n  if (e && e.o) {\n    if (He.has(e)) return;\n    He.add(e), ae.c.push(() => {\n      He.delete(e), l && (n && e.d(1), l());\n    }), e.o(t);\n  } else l && l();\n}\nconst cn = { duration: 0 };\nfunction bt(e, t, n, l) {\n  let s = t(e, n, { direction: \"both\" }), i = l ? 0 : 1, u = null, a = null, g = null, E;\n  function w() {\n    g && tn(e, g);\n  }\n  function M(d, q) {\n    const v = (\n      /** @type {Program['d']} */\n      d.b - i\n    );\n    return q *= Math.abs(v), {\n      a: i,\n      b: d.b,\n      d: v,\n      duration: q,\n      start: d.start,\n      end: d.start + q,\n      group: d.group\n    };\n  }\n  function m(d) {\n    const {\n      delay: q = 0,\n      duration: v = 300,\n      easing: C = At,\n      tick: D = $,\n      css: y\n    } = s || cn, _ = {\n      start: It() + q,\n      b: d\n    };\n    d || (_.group = ae, ae.r += 1), \"inert\" in e && (d ? E !== void 0 && (e.inert = E) : (E = /** @type {HTMLElement} */\n    e.inert, e.inert = !0)), u || a ? a = _ : (y && (w(), g = mt(e, i, d, v, q, C, y)), d && D(0, 1), u = M(_, v), Ke(() => lt(e, d, \"start\")), Ft((h) => {\n      if (a && h > a.start && (u = M(a, v), a = null, lt(e, u.b, \"start\"), y && (w(), g = mt(\n        e,\n        i,\n        u.b,\n        u.duration,\n        0,\n        C,\n        s.css\n      ))), u) {\n        if (h >= u.end)\n          D(i = u.b, 1 - i), lt(e, u.b, \"end\"), a || (u.b ? w() : --u.group.r || ne(u.group.c)), u = null;\n        else if (h >= u.start) {\n          const b = h - u.start;\n          i = u.a + u.d * C(b / u.duration), D(i, 1 - i);\n        }\n      }\n      return !!(u || a);\n    }));\n  }\n  return {\n    run(d) {\n      rt(s) ? _n().then(() => {\n        s = s({ direction: d ? \"in\" : \"out\" }), m(d);\n      }) : m(d);\n    },\n    end() {\n      w(), u = a = null;\n    }\n  };\n}\nfunction Ze(e) {\n  return (e == null ? void 0 : e.length) !== void 0 ? e : Array.from(e);\n}\nfunction hn(e, t) {\n  _e(e, 1, 1, () => {\n    t.delete(e.key);\n  });\n}\nfunction dn(e, t, n, l, c, s, i, u, a, g, E, w) {\n  let M = e.length, m = s.length, d = M;\n  const q = {};\n  for (; d--; ) q[e[d].key] = d;\n  const v = [], C = /* @__PURE__ */ new Map(), D = /* @__PURE__ */ new Map(), y = [];\n  for (d = m; d--; ) {\n    const z = w(c, s, d), N = n(z);\n    let K = i.get(N);\n    K ? y.push(() => K.p(z, t)) : (K = g(N, z), K.c()), C.set(N, v[d] = K), N in q && D.set(N, Math.abs(d - q[N]));\n  }\n  const _ = /* @__PURE__ */ new Set(), h = /* @__PURE__ */ new Set();\n  function b(z) {\n    te(z, 1), z.m(u, E), i.set(z.key, z), E = z.first, m--;\n  }\n  for (; M && m; ) {\n    const z = v[m - 1], N = e[M - 1], K = z.key, O = N.key;\n    z === N ? (E = z.first, M--, m--) : C.has(O) ? !i.has(K) || _.has(K) ? b(z) : h.has(O) ? M-- : D.get(K) > D.get(O) ? (h.add(K), b(z)) : (_.add(O), M--) : (a(N, i), M--);\n  }\n  for (; M--; ) {\n    const z = e[M];\n    C.has(z.key) || a(z, i);\n  }\n  for (; m; ) b(v[m - 1]);\n  return ne(y), v;\n}\nfunction Ye(e, t, n) {\n  const l = e.$$.props[t];\n  l !== void 0 && (e.$$.bound[l] = n, n(e.$$.ctx[l]));\n}\nfunction ut(e) {\n  e && e.c();\n}\nfunction $e(e, t, n) {\n  const { fragment: l, after_update: c } = e.$$;\n  l && l.m(t, n), Ke(() => {\n    const s = e.$$.on_mount.map(Bt).filter(rt);\n    e.$$.on_destroy ? e.$$.on_destroy.push(...s) : ne(s), e.$$.on_mount = [];\n  }), c.forEach(Ke);\n}\nfunction xe(e, t) {\n  const n = e.$$;\n  n.fragment !== null && (an(n.after_update), ne(n.on_destroy), n.fragment && n.fragment.d(t), n.on_destroy = n.fragment = null, n.ctx = []);\n}\nfunction gn(e, t) {\n  e.$$.dirty[0] === -1 && (Be.push(e), un(), e.$$.dirty.fill(0)), e.$$.dirty[t / 31 | 0] |= 1 << t % 31;\n}\nfunction _t(e, t, n, l, c, s, i = null, u = [-1]) {\n  const a = We;\n  Le(e);\n  const g = e.$$ = {\n    fragment: null,\n    ctx: [],\n    // state\n    props: s,\n    update: $,\n    not_equal: c,\n    bound: ht(),\n    // lifecycle\n    on_mount: [],\n    on_destroy: [],\n    on_disconnect: [],\n    before_update: [],\n    after_update: [],\n    context: new Map(t.context || (a ? a.$$.context : [])),\n    // everything else\n    callbacks: ht(),\n    dirty: u,\n    skip_bound: !1,\n    root: t.target || a.$$.root\n  };\n  i && i(g.root);\n  let E = !1;\n  if (g.ctx = n ? n(e, t.props || {}, (w, M, ...m) => {\n    const d = m.length ? m[0] : M;\n    return g.ctx && c(g.ctx[w], g.ctx[w] = d) && (!g.skip_bound && g.bound[w] && g.bound[w](d), E && gn(e, w)), M;\n  }) : [], g.update(), E = !0, ne(g.before_update), g.fragment = l ? l(g.ctx) : !1, t.target) {\n    if (t.hydrate) {\n      const w = Jt(t.target);\n      g.fragment && g.fragment.l(w), w.forEach(A);\n    } else\n      g.fragment && g.fragment.c();\n    t.intro && te(e.$$.fragment), $e(e, t.target, t.anchor), Nt();\n  }\n  Le(a);\n}\nclass ct {\n  constructor() {\n    /**\n     * ### PRIVATE API\n     *\n     * Do not use, may change at any time\n     *\n     * @type {any}\n     */\n    tt(this, \"$$\");\n    /**\n     * ### PRIVATE API\n     *\n     * Do not use, may change at any time\n     *\n     * @type {any}\n     */\n    tt(this, \"$$set\");\n  }\n  /** @returns {void} */\n  $destroy() {\n    xe(this, 1), this.$destroy = $;\n  }\n  /**\n   * @template {Extract<keyof Events, string>} K\n   * @param {K} type\n   * @param {((e: Events[K]) => void) | null | undefined} callback\n   * @returns {() => void}\n   */\n  $on(t, n) {\n    if (!rt(n))\n      return $;\n    const l = this.$$.callbacks[t] || (this.$$.callbacks[t] = []);\n    return l.push(n), () => {\n      const c = l.indexOf(n);\n      c !== -1 && l.splice(c, 1);\n    };\n  }\n  /**\n   * @param {Partial<Props>} props\n   * @returns {void}\n   */\n  $set(t) {\n    this.$$set && !Ut(t) && (this.$$.skip_bound = !0, this.$$set(t), this.$$.skip_bound = !1);\n  }\n}\nconst mn = \"4\";\ntypeof window < \"u\" && (window.__svelte || (window.__svelte = { v: /* @__PURE__ */ new Set() })).v.add(mn);\nfunction wt(e) {\n  let t, n, l, c, s, i, u, a, g, E, w, M, m, d, q, v, C, D, y, _, h, b, z, N, K, O, x, ce, j, ie, V, F, T, oe, se, ge, Q, p, H, Z, Y, we, he, me, be, pe, G, ye, ke, ve, Me, Pe, J, Ee, Ce, Ne, Ue;\n  return {\n    c() {\n      t = U(\"line\"), i = L(), u = U(\"line\"), M = L(), m = U(\"line\"), D = L(), y = U(\"line\"), N = L(), K = U(\"circle\"), ce = L(), j = U(\"circle\"), F = L(), T = U(\"circle\"), ge = L(), Q = U(\"circle\"), Z = L(), Y = U(\"line\"), pe = L(), G = U(\"line\"), Pe = L(), J = U(\"rect\"), o(t, \"x1\", n = /*x*/\n      e[2] * /*scaleX*/\n      e[6]), o(t, \"y1\", l = /*y*/\n      e[3] * /*scaleY*/\n      e[7]), o(t, \"x2\", c = /*x*/\n      (e[2] + /*width*/\n      e[0]) * /*scaleX*/\n      e[6]), o(t, \"y2\", s = /*y*/\n      e[3] * /*scaleY*/\n      e[7]), R(t, \"stroke-width\", \"10px\"), R(t, \"stroke\", \"black\"), R(t, \"stroke-opacity\", \"0\"), o(t, \"class\", \"top svelte-qvidok\"), o(u, \"x1\", a = /*x*/\n      e[2] * /*scaleX*/\n      e[6]), o(u, \"y1\", g = /*y*/\n      (e[3] + /*height*/\n      e[1]) * /*scaleY*/\n      e[7]), o(u, \"x2\", E = /*x*/\n      (e[2] + /*width*/\n      e[0]) * /*scaleX*/\n      e[6]), o(u, \"y2\", w = /*y*/\n      (e[3] + /*height*/\n      e[1]) * /*scaleY*/\n      e[7]), R(u, \"stroke-width\", \"10px\"), R(u, \"stroke\", \"black\"), R(u, \"stroke-opacity\", \"0\"), o(u, \"class\", \"bottom svelte-qvidok\"), o(m, \"x1\", d = /*x*/\n      e[2] * /*scaleX*/\n      e[6]), o(m, \"y1\", q = /*y*/\n      e[3] * /*scaleY*/\n      e[7]), o(m, \"x2\", v = /*x*/\n      e[2] * /*scaleX*/\n      e[6]), o(m, \"y2\", C = /*y*/\n      (e[3] + /*height*/\n      e[1]) * /*scaleY*/\n      e[7]), R(m, \"stroke-width\", \"10px\"), R(m, \"stroke\", \"black\"), R(m, \"stroke-opacity\", \"0\"), o(m, \"class\", \"left svelte-qvidok\"), o(y, \"x1\", _ = /*x*/\n      (e[2] + /*width*/\n      e[0]) * /*scaleX*/\n      e[6]), o(y, \"y1\", h = /*y*/\n      e[3] * /*scaleY*/\n      e[7]), o(y, \"x2\", b = /*x*/\n      (e[2] + /*width*/\n      e[0]) * /*scaleX*/\n      e[6]), o(y, \"y2\", z = /*y*/\n      (e[3] + /*height*/\n      e[1]) * /*scaleY*/\n      e[7]), R(y, \"stroke-width\", \"10px\"), R(y, \"stroke\", \"black\"), R(y, \"stroke-opacity\", \"0\"), o(y, \"class\", \"right svelte-qvidok\"), o(K, \"cx\", O = /*x*/\n      e[2] * /*scaleX*/\n      e[6]), o(K, \"cy\", x = /*y*/\n      e[3] * /*scaleY*/\n      e[7]), o(K, \"r\", 6), o(K, \"fill-opacity\", \"0\"), o(K, \"class\", \"top-left svelte-qvidok\"), o(j, \"cx\", ie = /*x*/\n      (e[2] + /*width*/\n      e[0]) * /*scaleX*/\n      e[6]), o(j, \"cy\", V = /*y*/\n      e[3] * /*scaleY*/\n      e[7]), o(j, \"r\", 6), o(j, \"fill-opacity\", \"0\"), o(j, \"class\", \"top-right svelte-qvidok\"), o(T, \"cx\", oe = /*x*/\n      e[2] * /*scaleX*/\n      e[6]), o(T, \"cy\", se = /*y*/\n      (e[3] + /*height*/\n      e[1]) * /*scaleY*/\n      e[7]), o(T, \"r\", 6), o(T, \"fill-opacity\", \"0\"), o(T, \"class\", \"bottom-left svelte-qvidok\"), o(Q, \"cx\", p = /*x*/\n      (e[2] + /*width*/\n      e[0]) * /*scaleX*/\n      e[6]), o(Q, \"cy\", H = /*y*/\n      (e[3] + /*height*/\n      e[1]) * /*scaleY*/\n      e[7]), o(Q, \"r\", 6), o(Q, \"fill-opacity\", \"0\"), o(Q, \"class\", \"bottom-right svelte-qvidok\"), o(Y, \"x1\", we = /*x*/\n      (e[2] + /*width*/\n      e[0]) * /*scaleX*/\n      e[6] - 10), o(Y, \"x2\", he = /*x*/\n      (e[2] + /*width*/\n      e[0]) * /*scaleX*/\n      e[6]), o(Y, \"y1\", me = /*y*/\n      e[3] * /*scaleY*/\n      e[7] - 13), o(Y, \"y2\", be = /*y*/\n      e[3] * /*scaleY*/\n      e[7] - 3), R(Y, \"stroke-width\", \"2\"), R(\n        Y,\n        \"stroke\",\n        /*color*/\n        e[10]\n      ), o(G, \"x1\", ye = /*x*/\n      (e[2] + /*width*/\n      e[0]) * /*scaleX*/\n      e[6] - 10), o(G, \"x2\", ke = /*x*/\n      (e[2] + /*width*/\n      e[0]) * /*scaleX*/\n      e[6]), o(G, \"y1\", ve = /*y*/\n      e[3] * /*scaleY*/\n      e[7] - 3), o(G, \"y2\", Me = /*y*/\n      e[3] * /*scaleY*/\n      e[7] - 13), R(G, \"stroke-width\", \"2\"), R(\n        G,\n        \"stroke\",\n        /*color*/\n        e[10]\n      ), o(J, \"width\", \"12\"), o(J, \"height\", \"12\"), o(J, \"class\", \"clickable svelte-qvidok\"), R(J, \"stroke-width\", \"0\"), R(J, \"fill-opacity\", \"0\"), o(J, \"x\", Ee = /*x*/\n      (e[2] + /*width*/\n      e[0]) * /*scaleX*/\n      e[6] - 11), o(J, \"y\", Ce = /*y*/\n      e[3] * /*scaleY*/\n      e[7] - 14);\n    },\n    m(f, k) {\n      B(f, t, k), B(f, i, k), B(f, u, k), B(f, M, k), B(f, m, k), B(f, D, k), B(f, y, k), B(f, N, k), B(f, K, k), B(f, ce, k), B(f, j, k), B(f, F, k), B(f, T, k), B(f, ge, k), B(f, Q, k), B(f, Z, k), B(f, Y, k), B(f, pe, k), B(f, G, k), B(f, Pe, k), B(f, J, k), Ne || (Ue = [\n        X(\n          t,\n          \"mousedown\",\n          /*mousedown_handler*/\n          e[18]\n        ),\n        X(\n          u,\n          \"mousedown\",\n          /*mousedown_handler_1*/\n          e[19]\n        ),\n        X(\n          m,\n          \"mousedown\",\n          /*mousedown_handler_2*/\n          e[20]\n        ),\n        X(\n          y,\n          \"mousedown\",\n          /*mousedown_handler_3*/\n          e[21]\n        ),\n        X(\n          K,\n          \"mousedown\",\n          /*mousedown_handler_4*/\n          e[22]\n        ),\n        X(\n          j,\n          \"mousedown\",\n          /*mousedown_handler_5*/\n          e[23]\n        ),\n        X(\n          T,\n          \"mousedown\",\n          /*mousedown_handler_6*/\n          e[24]\n        ),\n        X(\n          Q,\n          \"mousedown\",\n          /*mousedown_handler_7*/\n          e[25]\n        ),\n        X(\n          J,\n          \"mousedown\",\n          /*remove*/\n          e[13]\n        )\n      ], Ne = !0);\n    },\n    p(f, k) {\n      k[0] & /*x, scaleX*/\n      68 && n !== (n = /*x*/\n      f[2] * /*scaleX*/\n      f[6]) && o(t, \"x1\", n), k[0] & /*y, scaleY*/\n      136 && l !== (l = /*y*/\n      f[3] * /*scaleY*/\n      f[7]) && o(t, \"y1\", l), k[0] & /*x, width, scaleX*/\n      69 && c !== (c = /*x*/\n      (f[2] + /*width*/\n      f[0]) * /*scaleX*/\n      f[6]) && o(t, \"x2\", c), k[0] & /*y, scaleY*/\n      136 && s !== (s = /*y*/\n      f[3] * /*scaleY*/\n      f[7]) && o(t, \"y2\", s), k[0] & /*x, scaleX*/\n      68 && a !== (a = /*x*/\n      f[2] * /*scaleX*/\n      f[6]) && o(u, \"x1\", a), k[0] & /*y, height, scaleY*/\n      138 && g !== (g = /*y*/\n      (f[3] + /*height*/\n      f[1]) * /*scaleY*/\n      f[7]) && o(u, \"y1\", g), k[0] & /*x, width, scaleX*/\n      69 && E !== (E = /*x*/\n      (f[2] + /*width*/\n      f[0]) * /*scaleX*/\n      f[6]) && o(u, \"x2\", E), k[0] & /*y, height, scaleY*/\n      138 && w !== (w = /*y*/\n      (f[3] + /*height*/\n      f[1]) * /*scaleY*/\n      f[7]) && o(u, \"y2\", w), k[0] & /*x, scaleX*/\n      68 && d !== (d = /*x*/\n      f[2] * /*scaleX*/\n      f[6]) && o(m, \"x1\", d), k[0] & /*y, scaleY*/\n      136 && q !== (q = /*y*/\n      f[3] * /*scaleY*/\n      f[7]) && o(m, \"y1\", q), k[0] & /*x, scaleX*/\n      68 && v !== (v = /*x*/\n      f[2] * /*scaleX*/\n      f[6]) && o(m, \"x2\", v), k[0] & /*y, height, scaleY*/\n      138 && C !== (C = /*y*/\n      (f[3] + /*height*/\n      f[1]) * /*scaleY*/\n      f[7]) && o(m, \"y2\", C), k[0] & /*x, width, scaleX*/\n      69 && _ !== (_ = /*x*/\n      (f[2] + /*width*/\n      f[0]) * /*scaleX*/\n      f[6]) && o(y, \"x1\", _), k[0] & /*y, scaleY*/\n      136 && h !== (h = /*y*/\n      f[3] * /*scaleY*/\n      f[7]) && o(y, \"y1\", h), k[0] & /*x, width, scaleX*/\n      69 && b !== (b = /*x*/\n      (f[2] + /*width*/\n      f[0]) * /*scaleX*/\n      f[6]) && o(y, \"x2\", b), k[0] & /*y, height, scaleY*/\n      138 && z !== (z = /*y*/\n      (f[3] + /*height*/\n      f[1]) * /*scaleY*/\n      f[7]) && o(y, \"y2\", z), k[0] & /*x, scaleX*/\n      68 && O !== (O = /*x*/\n      f[2] * /*scaleX*/\n      f[6]) && o(K, \"cx\", O), k[0] & /*y, scaleY*/\n      136 && x !== (x = /*y*/\n      f[3] * /*scaleY*/\n      f[7]) && o(K, \"cy\", x), k[0] & /*x, width, scaleX*/\n      69 && ie !== (ie = /*x*/\n      (f[2] + /*width*/\n      f[0]) * /*scaleX*/\n      f[6]) && o(j, \"cx\", ie), k[0] & /*y, scaleY*/\n      136 && V !== (V = /*y*/\n      f[3] * /*scaleY*/\n      f[7]) && o(j, \"cy\", V), k[0] & /*x, scaleX*/\n      68 && oe !== (oe = /*x*/\n      f[2] * /*scaleX*/\n      f[6]) && o(T, \"cx\", oe), k[0] & /*y, height, scaleY*/\n      138 && se !== (se = /*y*/\n      (f[3] + /*height*/\n      f[1]) * /*scaleY*/\n      f[7]) && o(T, \"cy\", se), k[0] & /*x, width, scaleX*/\n      69 && p !== (p = /*x*/\n      (f[2] + /*width*/\n      f[0]) * /*scaleX*/\n      f[6]) && o(Q, \"cx\", p), k[0] & /*y, height, scaleY*/\n      138 && H !== (H = /*y*/\n      (f[3] + /*height*/\n      f[1]) * /*scaleY*/\n      f[7]) && o(Q, \"cy\", H), k[0] & /*x, width, scaleX*/\n      69 && we !== (we = /*x*/\n      (f[2] + /*width*/\n      f[0]) * /*scaleX*/\n      f[6] - 10) && o(Y, \"x1\", we), k[0] & /*x, width, scaleX*/\n      69 && he !== (he = /*x*/\n      (f[2] + /*width*/\n      f[0]) * /*scaleX*/\n      f[6]) && o(Y, \"x2\", he), k[0] & /*y, scaleY*/\n      136 && me !== (me = /*y*/\n      f[3] * /*scaleY*/\n      f[7] - 13) && o(Y, \"y1\", me), k[0] & /*y, scaleY*/\n      136 && be !== (be = /*y*/\n      f[3] * /*scaleY*/\n      f[7] - 3) && o(Y, \"y2\", be), k[0] & /*color*/\n      1024 && R(\n        Y,\n        \"stroke\",\n        /*color*/\n        f[10]\n      ), k[0] & /*x, width, scaleX*/\n      69 && ye !== (ye = /*x*/\n      (f[2] + /*width*/\n      f[0]) * /*scaleX*/\n      f[6] - 10) && o(G, \"x1\", ye), k[0] & /*x, width, scaleX*/\n      69 && ke !== (ke = /*x*/\n      (f[2] + /*width*/\n      f[0]) * /*scaleX*/\n      f[6]) && o(G, \"x2\", ke), k[0] & /*y, scaleY*/\n      136 && ve !== (ve = /*y*/\n      f[3] * /*scaleY*/\n      f[7] - 3) && o(G, \"y1\", ve), k[0] & /*y, scaleY*/\n      136 && Me !== (Me = /*y*/\n      f[3] * /*scaleY*/\n      f[7] - 13) && o(G, \"y2\", Me), k[0] & /*color*/\n      1024 && R(\n        G,\n        \"stroke\",\n        /*color*/\n        f[10]\n      ), k[0] & /*x, width, scaleX*/\n      69 && Ee !== (Ee = /*x*/\n      (f[2] + /*width*/\n      f[0]) * /*scaleX*/\n      f[6] - 11) && o(J, \"x\", Ee), k[0] & /*y, scaleY*/\n      136 && Ce !== (Ce = /*y*/\n      f[3] * /*scaleY*/\n      f[7] - 14) && o(J, \"y\", Ce);\n    },\n    d(f) {\n      f && (A(t), A(i), A(u), A(M), A(m), A(D), A(y), A(N), A(K), A(ce), A(j), A(F), A(T), A(ge), A(Q), A(Z), A(Y), A(pe), A(G), A(Pe), A(J)), Ne = !1, ne(Ue);\n    }\n  };\n}\nfunction bn(e) {\n  let t, n, l, c, s, i, u, a, g, E, w, M, m, d, q, v, C, D, y, _ = !/*view_only*/\n  e[9] && wt(e);\n  return {\n    c() {\n      t = U(\"text\"), n = Re(\n        /*label*/\n        e[4]\n      ), s = L(), i = U(\"text\"), u = Re(\n        /*label*/\n        e[4]\n      ), E = L(), w = U(\"rect\"), v = L(), _ && _.c(), C = Qt(), o(t, \"filter\", \"url(#bg-text)\"), o(t, \"fill\", \"black\"), o(t, \"x\", l = /*x*/\n      e[2] * /*scaleX*/\n      e[6]), o(t, \"y\", c = /*y*/\n      e[3] * /*scaleY*/\n      e[7] - 4), o(i, \"x\", a = /*x*/\n      e[2] * /*scaleX*/\n      e[6]), o(i, \"y\", g = /*y*/\n      e[3] * /*scaleY*/\n      e[7] - 4), o(i, \"fill\", \"#333\"), o(i, \"class\", \"svelte-qvidok\"), Te(i, \"clickable\", !/*view_only*/\n      e[9]), o(w, \"width\", M = /*width*/\n      e[0] * /*scaleX*/\n      e[6]), o(w, \"height\", m = /*height*/\n      e[1] * /*scaleY*/\n      e[7]), R(\n        w,\n        \"fill-opacity\",\n        /*opacity*/\n        e[5]\n      ), R(\n        w,\n        \"stroke-width\",\n        /*isActive*/\n        e[8] ? 3 : 2\n      ), R(\n        w,\n        \"stroke\",\n        /*color*/\n        e[10]\n      ), o(w, \"shape-rendering\", \"crispEdges\"), o(w, \"x\", d = /*x*/\n      e[2] * /*scaleX*/\n      e[6]), o(w, \"y\", q = /*y*/\n      e[3] * /*scaleY*/\n      e[7]), o(w, \"class\", \"svelte-qvidok\"), Te(w, \"movable\", !/*view_only*/\n      e[9]);\n    },\n    m(h, b) {\n      B(h, t, b), P(t, n), B(h, s, b), B(h, i, b), P(i, u), B(h, E, b), B(h, w, b), B(h, v, b), _ && _.m(h, b), B(h, C, b), D || (y = [\n        X(\n          i,\n          \"mousedown\",\n          /*relabel*/\n          e[14]\n        ),\n        X(\n          w,\n          \"mousedown\",\n          /*startMoving*/\n          e[11]\n        )\n      ], D = !0);\n    },\n    p(h, b) {\n      b[0] & /*label*/\n      16 && Ge(\n        n,\n        /*label*/\n        h[4]\n      ), b[0] & /*x, scaleX*/\n      68 && l !== (l = /*x*/\n      h[2] * /*scaleX*/\n      h[6]) && o(t, \"x\", l), b[0] & /*y, scaleY*/\n      136 && c !== (c = /*y*/\n      h[3] * /*scaleY*/\n      h[7] - 4) && o(t, \"y\", c), b[0] & /*label*/\n      16 && Ge(\n        u,\n        /*label*/\n        h[4]\n      ), b[0] & /*x, scaleX*/\n      68 && a !== (a = /*x*/\n      h[2] * /*scaleX*/\n      h[6]) && o(i, \"x\", a), b[0] & /*y, scaleY*/\n      136 && g !== (g = /*y*/\n      h[3] * /*scaleY*/\n      h[7] - 4) && o(i, \"y\", g), b[0] & /*view_only*/\n      512 && Te(i, \"clickable\", !/*view_only*/\n      h[9]), b[0] & /*width, scaleX*/\n      65 && M !== (M = /*width*/\n      h[0] * /*scaleX*/\n      h[6]) && o(w, \"width\", M), b[0] & /*height, scaleY*/\n      130 && m !== (m = /*height*/\n      h[1] * /*scaleY*/\n      h[7]) && o(w, \"height\", m), b[0] & /*opacity*/\n      32 && R(\n        w,\n        \"fill-opacity\",\n        /*opacity*/\n        h[5]\n      ), b[0] & /*isActive*/\n      256 && R(\n        w,\n        \"stroke-width\",\n        /*isActive*/\n        h[8] ? 3 : 2\n      ), b[0] & /*color*/\n      1024 && R(\n        w,\n        \"stroke\",\n        /*color*/\n        h[10]\n      ), b[0] & /*x, scaleX*/\n      68 && d !== (d = /*x*/\n      h[2] * /*scaleX*/\n      h[6]) && o(w, \"x\", d), b[0] & /*y, scaleY*/\n      136 && q !== (q = /*y*/\n      h[3] * /*scaleY*/\n      h[7]) && o(w, \"y\", q), b[0] & /*view_only*/\n      512 && Te(w, \"movable\", !/*view_only*/\n      h[9]), /*view_only*/\n      h[9] ? _ && (_.d(1), _ = null) : _ ? _.p(h, b) : (_ = wt(h), _.c(), _.m(C.parentNode, C));\n    },\n    i: $,\n    o: $,\n    d(h) {\n      h && (A(t), A(s), A(i), A(E), A(w), A(v), A(C)), _ && _.d(h), D = !1, ne(y);\n    }\n  };\n}\nfunction wn(e, t, n) {\n  let { width: l = 0 } = t, { height: c = 0 } = t, { x: s = 0 } = t, { y: i = 0 } = t, { label: u = \"\" } = t, { colors: a = [\"red\"] } = t, { classes: g = [] } = t, { opacity: E = 0 } = t, { toImageCoordinates: w } = t, { scaleX: M = 1 } = t, { scaleY: m = 1 } = t, { isActive: d = !1 } = t, { view_only: q = !1 } = t;\n  const v = on();\n  let C = 0, D = 0, y = 0, _ = 0, h = !1, b = !1, z = \"rgb(255,64,64)\";\n  function N(p) {\n    p.button === 0 && (p.stopPropagation(), C = p.clientX, D = p.clientY, y = s, _ = i, v(\"move\", q ? null : K));\n  }\n  function K(p) {\n    p.stopPropagation(), p.preventDefault();\n    const H = (p.clientX - C) / M, Z = (p.clientY - D) / m;\n    n(2, s = Math.round(y + H)), n(3, i = Math.round(_ + Z));\n  }\n  function O(p, H) {\n    p.button === 0 && (p.stopPropagation(), h = !1, b = !1, H.includes(\"top\") ? (b = !0, _ = i + c) : H.includes(\"bottom\") && (b = !0, _ = i), H.includes(\"left\") ? (h = !0, y = s + l) : H.includes(\"right\") && (h = !0, y = s), v(\"move\", x));\n  }\n  function x(p) {\n    p.stopPropagation(), p.preventDefault();\n    const H = w(p), Z = Math.round(H.x), Y = Math.round(H.y);\n    h && (n(2, s = Math.min(y, Z)), n(0, l = Math.max(y, Z) - s)), b && (n(3, i = Math.min(_, Y)), n(1, c = Math.max(_, Y) - i));\n  }\n  function ce(p) {\n    p.button === 0 && (p.stopPropagation(), v(\"remove\"));\n  }\n  function j(p) {\n    q || p.button === 0 && (p.stopPropagation(), v(\"label\"));\n  }\n  ln(() => {\n    y = s, _ = i, C = s, D = i, h = !0, b = !0, v(\"create\", x);\n  });\n  const ie = (p) => O(p, \"top\"), V = (p) => O(p, \"bottom\"), F = (p) => O(p, \"left\"), T = (p) => O(p, \"right\"), oe = (p) => O(p, \"top-left\"), se = (p) => O(p, \"top-right\"), ge = (p) => O(p, \"bottom-left\"), Q = (p) => O(p, \"bottom-right\");\n  return e.$$set = (p) => {\n    \"width\" in p && n(0, l = p.width), \"height\" in p && n(1, c = p.height), \"x\" in p && n(2, s = p.x), \"y\" in p && n(3, i = p.y), \"label\" in p && n(4, u = p.label), \"colors\" in p && n(15, a = p.colors), \"classes\" in p && n(16, g = p.classes), \"opacity\" in p && n(5, E = p.opacity), \"toImageCoordinates\" in p && n(17, w = p.toImageCoordinates), \"scaleX\" in p && n(6, M = p.scaleX), \"scaleY\" in p && n(7, m = p.scaleY), \"isActive\" in p && n(8, d = p.isActive), \"view_only\" in p && n(9, q = p.view_only);\n  }, e.$$.update = () => {\n    e.$$.dirty[0] & /*colors, classes, label*/\n    98320 && n(10, z = a[Math.max(0, g.indexOf(u) % a.length)]);\n  }, [\n    l,\n    c,\n    s,\n    i,\n    u,\n    E,\n    M,\n    m,\n    d,\n    q,\n    z,\n    N,\n    O,\n    ce,\n    j,\n    a,\n    g,\n    w,\n    ie,\n    V,\n    F,\n    T,\n    oe,\n    se,\n    ge,\n    Q\n  ];\n}\nclass pn extends ct {\n  constructor(t) {\n    super(), _t(\n      this,\n      t,\n      wn,\n      bn,\n      et,\n      {\n        width: 0,\n        height: 1,\n        x: 2,\n        y: 3,\n        label: 4,\n        colors: 15,\n        classes: 16,\n        opacity: 5,\n        toImageCoordinates: 17,\n        scaleX: 6,\n        scaleY: 7,\n        isActive: 8,\n        view_only: 9\n      },\n      null,\n      [-1, -1]\n    );\n  }\n}\nfunction pt(e) {\n  let t, n;\n  return {\n    c() {\n      t = ee(\"i\"), o(t, \"class\", n = \"fa fa-\" + /*icon*/\n      e[1]);\n    },\n    m(l, c) {\n      B(l, t, c);\n    },\n    p(l, c) {\n      c & /*icon*/\n      2 && n !== (n = \"fa fa-\" + /*icon*/\n      l[1]) && o(t, \"class\", n);\n    },\n    d(l) {\n      l && A(t);\n    }\n  };\n}\nfunction yn(e) {\n  let t, n, l, c, s, i, u = (\n    /*icon*/\n    e[1] !== \"\" && pt(e)\n  );\n  return {\n    c() {\n      t = ee(\"button\"), u && u.c(), n = L(), l = Re(\n        /*text*/\n        e[0]\n      ), o(t, \"class\", c = gt(\n        /*style*/\n        e[2]\n      ) + \" svelte-s4c08i\"), o(\n        t,\n        \"title\",\n        /*tooltip*/\n        e[3]\n      );\n    },\n    m(a, g) {\n      B(a, t, g), u && u.m(t, null), P(t, n), P(t, l), s || (i = X(\n        t,\n        \"click\",\n        /*click_handler*/\n        e[4]\n      ), s = !0);\n    },\n    p(a, [g]) {\n      /*icon*/\n      a[1] !== \"\" ? u ? u.p(a, g) : (u = pt(a), u.c(), u.m(t, n)) : u && (u.d(1), u = null), g & /*text*/\n      1 && Ge(\n        l,\n        /*text*/\n        a[0]\n      ), g & /*style*/\n      4 && c !== (c = gt(\n        /*style*/\n        a[2]\n      ) + \" svelte-s4c08i\") && o(t, \"class\", c), g & /*tooltip*/\n      8 && o(\n        t,\n        \"title\",\n        /*tooltip*/\n        a[3]\n      );\n    },\n    i: $,\n    o: $,\n    d(a) {\n      a && A(t), u && u.d(), s = !1, i();\n    }\n  };\n}\nfunction kn(e, t, n) {\n  let { text: l = \"\" } = t, { icon: c = \"\" } = t, { style: s = \"\" } = t, { tooltip: i = \"\" } = t;\n  function u(a) {\n    sn.call(this, e, a);\n  }\n  return e.$$set = (a) => {\n    \"text\" in a && n(0, l = a.text), \"icon\" in a && n(1, c = a.icon), \"style\" in a && n(2, s = a.style), \"tooltip\" in a && n(3, i = a.tooltip);\n  }, [l, c, s, i, u];\n}\nclass yt extends ct {\n  constructor(t) {\n    super(), _t(this, t, kn, yn, et, { text: 0, icon: 1, style: 2, tooltip: 3 });\n  }\n}\nconst Ae = [];\nfunction vn(e, t = $) {\n  let n;\n  const l = /* @__PURE__ */ new Set();\n  function c(u) {\n    if (et(e, u) && (e = u, n)) {\n      const a = !Ae.length;\n      for (const g of l)\n        g[1](), Ae.push(g, e);\n      if (a) {\n        for (let g = 0; g < Ae.length; g += 2)\n          Ae[g][0](Ae[g + 1]);\n        Ae.length = 0;\n      }\n    }\n  }\n  function s(u) {\n    c(u(e));\n  }\n  function i(u, a = $) {\n    const g = [u, a];\n    return l.add(g), l.size === 1 && (n = t(c, s) || $), u(e), () => {\n      l.delete(g), l.size === 0 && n && (n(), n = null);\n    };\n  }\n  return { set: c, update: s, subscribe: i };\n}\nfunction ue(e, t, n) {\n  const l = t, c = e.get(l), s = vn(c === void 0 ? n : c);\n  return e.on(\"change:\" + l, () => s.set(e.get(l)), null), {\n    set: (i) => {\n      s.set(i), e.set(l, i), e.save_changes();\n    },\n    subscribe: s.subscribe,\n    update: (i) => {\n      s.update((u) => {\n        let a = i(u);\n        return e.set(l, a), e.save_changes(), a;\n      });\n    }\n  };\n}\nfunction kt(e, { delay: t = 0, duration: n = 400, easing: l = At } = {}) {\n  const c = +getComputedStyle(e).opacity;\n  return {\n    delay: t,\n    duration: n,\n    easing: l,\n    css: (s) => `opacity: ${s * c}`\n  };\n}\nconst { Map: Mn } = Vt;\nfunction vt(e, t, n) {\n  const l = e.slice();\n  return l[60] = t[n], l[62] = n, l;\n}\nfunction Mt(e, t, n) {\n  const l = e.slice();\n  return l[63] = t[n], l[64] = t, l[62] = n, l;\n}\nfunction Et(e) {\n  let t, n, l, c, s;\n  return n = new yt({\n    props: {\n      text: \"Skip\",\n      icon: \"arrow-right\",\n      tooltip: \"Keyboard shortcut: Space\"\n    }\n  }), n.$on(\n    \"click\",\n    /*skip*/\n    e[37]\n  ), c = new yt({\n    props: {\n      text: \"Submit\",\n      icon: \"check\",\n      style: \"success\",\n      tooltip: \"Keyboard shortcut: Enter\"\n    }\n  }), c.$on(\n    \"click\",\n    /*submit*/\n    e[38]\n  ), {\n    c() {\n      t = ee(\"div\"), ut(n.$$.fragment), l = L(), ut(c.$$.fragment), o(t, \"class\", \"buttons svelte-n5k047\");\n    },\n    m(i, u) {\n      B(i, t, u), $e(n, t, null), P(t, l), $e(c, t, null), s = !0;\n    },\n    p: $,\n    i(i) {\n      s || (te(n.$$.fragment, i), te(c.$$.fragment, i), s = !0);\n    },\n    o(i) {\n      _e(n.$$.fragment, i), _e(c.$$.fragment, i), s = !1;\n    },\n    d(i) {\n      i && A(t), xe(n), xe(c);\n    }\n  };\n}\nfunction Ct(e) {\n  let t, n, l, c, s, i = [], u = new Mn(), a, g, E, w = Ze(\n    /*sortedBBoxes*/\n    e[1]\n  );\n  const M = (m) => (\n    /*sortedIndexToOriginal*/\n    m[11][\n      /*i*/\n      m[62]\n    ]\n  );\n  for (let m = 0; m < w.length; m += 1) {\n    let d = Mt(e, w, m), q = M(d);\n    u.set(q, i[m] = qt(q, d));\n  }\n  return {\n    c() {\n      t = U(\"svg\"), n = U(\"defs\"), l = U(\"filter\"), c = U(\"feFlood\"), s = U(\"feComposite\");\n      for (let m = 0; m < i.length; m += 1)\n        i[m].c();\n      o(c, \"flood-color\", \"rgba(255,255,255,0.5)\"), o(s, \"in\", \"SourceGraphic\"), o(s, \"operator\", \"xor\"), o(l, \"x\", \"0\"), o(l, \"y\", \"0\"), o(l, \"width\", \"1\"), o(l, \"height\", \"1\"), o(l, \"id\", \"bg-text\"), o(\n        t,\n        \"width\",\n        /*imgWidth*/\n        e[7]\n      ), o(\n        t,\n        \"height\",\n        /*imgHeight*/\n        e[6]\n      ), o(t, \"class\", \"svelte-n5k047\");\n    },\n    m(m, d) {\n      B(m, t, d), P(t, n), P(n, l), P(l, c), P(l, s);\n      for (let q = 0; q < i.length; q += 1)\n        i[q] && i[q].m(t, null);\n      a = !0, g || (E = [\n        X(\n          t,\n          \"mousedown\",\n          /*handleMouseDown*/\n          e[29]\n        ),\n        X(\n          t,\n          \"mousemove\",\n          /*handleMouseMove*/\n          e[31]\n        ),\n        X(\n          t,\n          \"mouseup\",\n          /*handleMouseUp*/\n          e[30]\n        )\n      ], g = !0);\n    },\n    p(m, d) {\n      d[0] & /*getImageCoordinates, $classes, $colors, imgWidth, naturalWidth, imgHeight, naturalHeight, sortedIndexToOriginal, sortedBBoxes, $selected_index, $view_only, moveFn, $label*/\n      134314970 | d[1] & /*remove, onCreateBBox, updateBBoxes*/\n      14 && (w = Ze(\n        /*sortedBBoxes*/\n        m[1]\n      ), st(), i = dn(i, d, M, 1, m, w, u, t, hn, qt, null, Mt), ft()), (!a || d[0] & /*imgWidth*/\n      128) && o(\n        t,\n        \"width\",\n        /*imgWidth*/\n        m[7]\n      ), (!a || d[0] & /*imgHeight*/\n      64) && o(\n        t,\n        \"height\",\n        /*imgHeight*/\n        m[6]\n      );\n    },\n    i(m) {\n      if (!a) {\n        for (let d = 0; d < w.length; d += 1)\n          te(i[d]);\n        a = !0;\n      }\n    },\n    o(m) {\n      for (let d = 0; d < i.length; d += 1)\n        _e(i[d]);\n      a = !1;\n    },\n    d(m) {\n      m && A(t);\n      for (let d = 0; d < i.length; d += 1)\n        i[d].d();\n      g = !1, ne(E);\n    }\n  };\n}\nfunction qt(e, t) {\n  let n, l, c, s, i, u, a, g, E;\n  function w(_) {\n    t[45](\n      _,\n      /*bbox*/\n      t[63]\n    );\n  }\n  function M(_) {\n    t[46](\n      _,\n      /*bbox*/\n      t[63]\n    );\n  }\n  function m(_) {\n    t[47](\n      _,\n      /*bbox*/\n      t[63]\n    );\n  }\n  function d(_) {\n    t[48](\n      _,\n      /*bbox*/\n      t[63]\n    );\n  }\n  function q(_) {\n    t[49](\n      _,\n      /*bbox*/\n      t[63]\n    );\n  }\n  function v() {\n    return (\n      /*remove_handler*/\n      t[50](\n        /*bbox*/\n        t[63]\n      )\n    );\n  }\n  function C(..._) {\n    return (\n      /*move_handler*/\n      t[51](\n        /*i*/\n        t[62],\n        ..._\n      )\n    );\n  }\n  function D() {\n    return (\n      /*label_handler*/\n      t[52](\n        /*bbox*/\n        t[63],\n        /*each_value_1*/\n        t[64],\n        /*i*/\n        t[62]\n      )\n    );\n  }\n  let y = {\n    toImageCoordinates: (\n      /*getImageCoordinates*/\n      t[27]\n    ),\n    classes: (\n      /*$classes*/\n      t[4]\n    ),\n    colors: (\n      /*$colors*/\n      t[16]\n    ),\n    scaleX: (\n      /*imgWidth*/\n      t[7] / /*naturalWidth*/\n      t[9]\n    ),\n    scaleY: (\n      /*imgHeight*/\n      t[6] / /*naturalHeight*/\n      t[8]\n    ),\n    isActive: (\n      /*sortedIndexToOriginal*/\n      t[11][\n        /*i*/\n        t[62]\n      ] === /*$selected_index*/\n      t[3]\n    ),\n    view_only: (\n      /*$view_only*/\n      t[14]\n    )\n  };\n  return (\n    /*bbox*/\n    t[63].x !== void 0 && (y.x = /*bbox*/\n    t[63].x), /*bbox*/\n    t[63].y !== void 0 && (y.y = /*bbox*/\n    t[63].y), /*bbox*/\n    t[63].width !== void 0 && (y.width = /*bbox*/\n    t[63].width), /*bbox*/\n    t[63].height !== void 0 && (y.height = /*bbox*/\n    t[63].height), /*bbox*/\n    t[63].label !== void 0 && (y.label = /*bbox*/\n    t[63].label), l = new pn({ props: y }), re.push(() => Ye(l, \"x\", w)), re.push(() => Ye(l, \"y\", M)), re.push(() => Ye(l, \"width\", m)), re.push(() => Ye(l, \"height\", d)), re.push(() => Ye(l, \"label\", q)), l.$on(\"remove\", v), l.$on(\"move\", C), l.$on(\n      \"create\",\n      /*onCreateBBox*/\n      t[34]\n    ), l.$on(\"label\", D), {\n      key: e,\n      first: null,\n      c() {\n        n = U(\"g\"), ut(l.$$.fragment), this.first = n;\n      },\n      m(_, h) {\n        B(_, n, h), $e(l, n, null), E = !0;\n      },\n      p(_, h) {\n        t = _;\n        const b = {};\n        h[0] & /*$classes*/\n        16 && (b.classes = /*$classes*/\n        t[4]), h[0] & /*$colors*/\n        65536 && (b.colors = /*$colors*/\n        t[16]), h[0] & /*imgWidth, naturalWidth*/\n        640 && (b.scaleX = /*imgWidth*/\n        t[7] / /*naturalWidth*/\n        t[9]), h[0] & /*imgHeight, naturalHeight*/\n        320 && (b.scaleY = /*imgHeight*/\n        t[6] / /*naturalHeight*/\n        t[8]), h[0] & /*sortedIndexToOriginal, sortedBBoxes, $selected_index*/\n        2058 && (b.isActive = /*sortedIndexToOriginal*/\n        t[11][\n          /*i*/\n          t[62]\n        ] === /*$selected_index*/\n        t[3]), h[0] & /*$view_only*/\n        16384 && (b.view_only = /*$view_only*/\n        t[14]), !c && h[0] & /*sortedBBoxes*/\n        2 && (c = !0, b.x = /*bbox*/\n        t[63].x, Oe(() => c = !1)), !s && h[0] & /*sortedBBoxes*/\n        2 && (s = !0, b.y = /*bbox*/\n        t[63].y, Oe(() => s = !1)), !i && h[0] & /*sortedBBoxes*/\n        2 && (i = !0, b.width = /*bbox*/\n        t[63].width, Oe(() => i = !1)), !u && h[0] & /*sortedBBoxes*/\n        2 && (u = !0, b.height = /*bbox*/\n        t[63].height, Oe(() => u = !1)), !a && h[0] & /*sortedBBoxes*/\n        2 && (a = !0, b.label = /*bbox*/\n        t[63].label, Oe(() => a = !1)), l.$set(b);\n      },\n      i(_) {\n        E || (te(l.$$.fragment, _), _ && Ke(() => {\n          E && (g || (g = bt(n, kt, { duration: 100 }, !0)), g.run(1));\n        }), E = !0);\n      },\n      o(_) {\n        _e(l.$$.fragment, _), _ && (g || (g = bt(n, kt, { duration: 100 }, !1)), g.run(0)), E = !1;\n      },\n      d(_) {\n        _ && A(n), xe(l), _ && g && g.end();\n      }\n    }\n  );\n}\nfunction En(e) {\n  let t;\n  return {\n    c() {\n      t = ee(\"span\"), t.textContent = `${/*i*/\n      (e[62] + 1) % 10}`, o(t, \"class\", \"key svelte-n5k047\");\n    },\n    m(n, l) {\n      B(n, t, l);\n    },\n    d(n) {\n      n && A(t);\n    }\n  };\n}\nfunction St(e) {\n  let t, n = (\n    /*_class*/\n    e[60] + \"\"\n  ), l, c, s, i, u, a = (\n    /*i*/\n    e[62] <= 9 && En(e)\n  );\n  function g() {\n    return (\n      /*click_handler*/\n      e[53](\n        /*_class*/\n        e[60]\n      )\n    );\n  }\n  return {\n    c() {\n      t = ee(\"div\"), l = Re(n), c = L(), a && a.c(), s = L(), o(t, \"class\", \"class-label svelte-n5k047\"), R(\n        t,\n        \"color\",\n        /*$colors*/\n        e[16][\n          /*i*/\n          e[62] % /*$colors*/\n          e[16].length\n        ]\n      ), R(\n        t,\n        \"border\",\n        /*_class*/\n        (e[60] === /*$label*/\n        e[13] ? 1 : 0) + \"px solid \" + /*$colors*/\n        e[16][\n          /*i*/\n          e[62] % /*$colors*/\n          e[16].length\n        ]\n      );\n    },\n    m(E, w) {\n      B(E, t, w), P(t, l), P(t, c), a && a.m(t, null), P(t, s), i || (u = X(t, \"click\", g), i = !0);\n    },\n    p(E, w) {\n      e = E, w[0] & /*$classes*/\n      16 && n !== (n = /*_class*/\n      e[60] + \"\") && Ge(l, n), w[0] & /*$colors*/\n      65536 && R(\n        t,\n        \"color\",\n        /*$colors*/\n        e[16][\n          /*i*/\n          e[62] % /*$colors*/\n          e[16].length\n        ]\n      ), w[0] & /*$classes, $label, $colors*/\n      73744 && R(\n        t,\n        \"border\",\n        /*_class*/\n        (e[60] === /*$label*/\n        e[13] ? 1 : 0) + \"px solid \" + /*$colors*/\n        e[16][\n          /*i*/\n          e[62] % /*$colors*/\n          e[16].length\n        ]\n      );\n    },\n    d(E) {\n      E && A(t), a && a.d(), i = !1, u();\n    }\n  };\n}\nfunction Cn(e) {\n  let t, n, l, c, s, i, u, a, g, E, w, M, m, d, q, v = !/*$hide_buttons*/\n  e[15] && Et(e), C = (\n    /*showSVG*/\n    e[10] && Ct(e)\n  ), D = Ze(\n    /*$classes*/\n    e[4]\n  ), y = [];\n  for (let _ = 0; _ < D.length; _ += 1)\n    y[_] = St(vt(e, D, _));\n  return {\n    c() {\n      t = ee(\"div\"), v && v.c(), n = L(), l = ee(\"div\"), c = ee(\"div\"), s = ee(\"img\"), a = L(), C && C.c(), g = L(), E = ee(\"div\"), w = ee(\"p\"), w.textContent = \"Classes:\", M = L();\n      for (let _ = 0; _ < y.length; _ += 1)\n        y[_].c();\n      dt(s.src, i = /*image_src*/\n      e[2]) || o(s, \"src\", i), o(s, \"alt\", \"annotate me\"), o(s, \"class\", \"svelte-n5k047\"), o(c, \"class\", \"image-measure svelte-n5k047\"), Ke(() => (\n        /*div0_elementresize_handler*/\n        e[44].call(c)\n      )), o(l, \"class\", \"image svelte-n5k047\"), o(E, \"class\", \"classes svelte-n5k047\"), o(t, \"class\", \"wrapper svelte-n5k047\"), o(t, \"tabindex\", \"0\");\n    },\n    m(_, h) {\n      B(_, t, h), v && v.m(t, null), P(t, n), P(t, l), P(l, c), P(c, s), e[43](s), u = $t(\n        c,\n        /*div0_elementresize_handler*/\n        e[44].bind(c)\n      ), P(l, a), C && C.m(l, null), P(t, g), P(t, E), P(E, w), P(E, M);\n      for (let b = 0; b < y.length; b += 1)\n        y[b] && y[b].m(E, null);\n      e[54](t), m = !0, d || (q = [\n        X(\n          s,\n          \"load\",\n          /*initSVG*/\n          e[28]\n        ),\n        X(\n          t,\n          \"keydown\",\n          /*keydown_handler*/\n          e[55]\n        ),\n        X(\n          t,\n          \"keyup\",\n          /*keyup_handler*/\n          e[56]\n        ),\n        X(\n          t,\n          \"blur\",\n          /*blur_handler*/\n          e[57]\n        )\n      ], d = !0);\n    },\n    p(_, h) {\n      if (/*$hide_buttons*/\n      _[15] ? v && (st(), _e(v, 1, 1, () => {\n        v = null;\n      }), ft()) : v ? (v.p(_, h), h[0] & /*$hide_buttons*/\n      32768 && te(v, 1)) : (v = Et(_), v.c(), te(v, 1), v.m(t, n)), (!m || h[0] & /*image_src*/\n      4 && !dt(s.src, i = /*image_src*/\n      _[2])) && o(s, \"src\", i), /*showSVG*/\n      _[10] ? C ? (C.p(_, h), h[0] & /*showSVG*/\n      1024 && te(C, 1)) : (C = Ct(_), C.c(), te(C, 1), C.m(l, null)) : C && (st(), _e(C, 1, 1, () => {\n        C = null;\n      }), ft()), h[0] & /*$colors, $classes, $label*/\n      73744) {\n        D = Ze(\n          /*$classes*/\n          _[4]\n        );\n        let b;\n        for (b = 0; b < D.length; b += 1) {\n          const z = vt(_, D, b);\n          y[b] ? y[b].p(z, h) : (y[b] = St(z), y[b].c(), y[b].m(E, null));\n        }\n        for (; b < y.length; b += 1)\n          y[b].d(1);\n        y.length = D.length;\n      }\n    },\n    i(_) {\n      m || (te(v), te(C), m = !0);\n    },\n    o(_) {\n      _e(v), _e(C), m = !1;\n    },\n    d(_) {\n      _ && A(t), v && v.d(), e[43](null), u(), C && C.d(), Gt(y, _), e[54](null), d = !1, ne(q);\n    }\n  };\n}\nfunction qn(e, t, n) {\n  let l, c, s, i, u, a, g, E, w, { model: M } = t, m, d, q = 0, v = 0, C = 0, D = 0, y = !1, _ = [], h = [], b = null, z = !1, N = /* @__PURE__ */ new Set(), K = ue(M, \"image_url\");\n  fe(e, K, (r) => n(40, l = r));\n  let O = ue(M, \"image_bytes\");\n  fe(e, O, (r) => n(41, c = r));\n  let x = null, ce = ue(M, \"classes\", [\"\"]);\n  fe(e, ce, (r) => n(4, u = r));\n  let j = ue(M, \"label\", \"\");\n  fe(e, j, (r) => n(13, a = r));\n  let ie = ue(M, \"colors\", [\n    \"#1f77b4\",\n    \"#ff7f0e\",\n    \"#2ca02c\",\n    \"#d62728\",\n    \"#9467bd\",\n    \"#8c564b\",\n    \"#e377c2\",\n    \"#7f7f7f\",\n    \"#bcbd22\",\n    \"#17becf\"\n  ]);\n  fe(e, ie, (r) => n(16, w = r));\n  let V = ue(M, \"bboxes\", []);\n  fe(e, V, (r) => n(42, i = r));\n  let F = ue(M, \"selected_index\", -1);\n  fe(e, F, (r) => n(3, s = r));\n  let T = ue(M, \"view_only\", !1);\n  fe(e, T, (r) => n(14, g = r));\n  let oe = ue(M, \"hide_buttons\", !1);\n  fe(e, oe, (r) => n(15, E = r));\n  function se(r) {\n    const S = d.getBoundingClientRect(), W = (r.clientX - S.left) * D / v, le = (r.clientY - S.top) * C / q;\n    return { x: W, y: le };\n  }\n  function ge() {\n    n(10, y = !0), n(9, D = d.naturalWidth), n(8, C = d.naturalHeight);\n    const r = d.getBoundingClientRect();\n    n(6, q = r.height), n(7, v = r.width);\n  }\n  function Q(r) {\n    if (r.button !== 0)\n      return;\n    if (g) {\n      I(F, s = -1, s);\n      return;\n    }\n    const { x: S, y: W } = se(r), le = {\n      x: Math.round(S),\n      y: Math.round(W),\n      width: 0,\n      height: 0,\n      label: a\n    };\n    z = !0, I(V, i = [...i, le], i), I(F, s = i.length - 1, s);\n  }\n  function p(r) {\n    r.button === 0 && (r.preventDefault(), n(12, b = null), Z());\n  }\n  function H(r) {\n    b !== null && b(r);\n  }\n  function Z() {\n    M.set(\"bboxes\", [], { silent: !0 }), M.set(\"bboxes\", [...i]), M.save_changes();\n  }\n  function Y(r) {\n    const S = i.indexOf(r);\n    s > S && I(F, s -= 1, s), s == i.length - 1 && I(F, s = -1, s), I(V, i = i.filter((W) => W !== r), i);\n  }\n  function we(r) {\n    z && (n(12, b = r.detail), z = !1);\n  }\n  const he = /* @__PURE__ */ new Map([\n    [\"KeyW\", \"up\"],\n    [\"KeyA\", \"left\"],\n    [\"KeyS\", \"down\"],\n    [\"KeyD\", \"right\"],\n    [\"KeyQ\", \"shrink-width\"],\n    [\"KeyE\", \"grow-width\"],\n    [\"KeyR\", \"grow-height\"],\n    [\"KeyF\", \"shrink-height\"]\n  ]);\n  function me(r) {\n    if (r.stopPropagation(), r.preventDefault(), r.code.startsWith(\"Digit\") || /Numpad\\d/.test(r.code)) {\n      let S = Number(r.code.slice(-1));\n      S === 0 && (S = 10), S -= 1, S < u.length && I(j, a = u[S], a);\n    } else if (r.code === \"Escape\")\n      m.blur();\n    else if (r.code === \"Tab\") {\n      const S = r.shiftKey ? -1 : 1;\n      I(F, s += S, s), s >= i.length ? I(F, s = -1, s) : s === -2 && I(F, s = i.length - 1, s);\n    } else r.code === \"Space\" && !E ? be() : (r.code === \"Enter\" || r.code === \"NumpadEnter\") && !E && pe();\n    if (s >= 0 && !g) {\n      let S = he.get(r.code);\n      S && N.add(S), r.code === \"Delete\" && Y(i[s]), r.code === \"KeyC\" && (I(V, i[s].label = a, i), Z());\n      let W = r.shiftKey ? 10 : 1, le = 0, qe = 0, je = 0, Ie = 0;\n      for (let de of N)\n        de === \"up\" ? qe -= W : de === \"down\" ? qe += W : de === \"right\" ? le += W : de === \"left\" ? le -= W : de === \"shrink-width\" ? (je -= 2 * W, le += W) : de === \"grow-width\" ? (je += 2 * W, le -= W) : de === \"shrink-height\" ? (Ie -= 2 * W, qe += W) : de === \"grow-height\" && (Ie += 2 * W, qe -= W);\n      (le !== 0 || qe !== 0 || je !== 0 || Ie !== 0) && (I(V, i[s].x += le, i), I(V, i[s].y += qe, i), I(V, i[s].width += je, i), I(V, i[s].height += Ie, i), Z());\n    }\n  }\n  function be() {\n    M.send({ type: \"skip\" }, {}), m.focus();\n  }\n  function pe() {\n    M.send({ type: \"submit\" }, {}), m.focus();\n  }\n  function G(r) {\n    return s === -1 ? r : r === i.length - 1 ? s : r < s ? r : r + 1;\n  }\n  function ye(r) {\n    re[r ? \"unshift\" : \"push\"](() => {\n      d = r, n(0, d);\n    });\n  }\n  function ke() {\n    q = this.clientHeight, v = this.clientWidth, n(6, q), n(7, v);\n  }\n  function ve(r, S) {\n    e.$$.not_equal(S.x, r) && (S.x = r, n(1, _), n(3, s), n(42, i));\n  }\n  function Me(r, S) {\n    e.$$.not_equal(S.y, r) && (S.y = r, n(1, _), n(3, s), n(42, i));\n  }\n  function Pe(r, S) {\n    e.$$.not_equal(S.width, r) && (S.width = r, n(1, _), n(3, s), n(42, i));\n  }\n  function J(r, S) {\n    e.$$.not_equal(S.height, r) && (S.height = r, n(1, _), n(3, s), n(42, i));\n  }\n  function Ee(r, S) {\n    e.$$.not_equal(S.label, r) && (S.label = r, n(1, _), n(3, s), n(42, i));\n  }\n  const Ce = (r) => Y(r), Ne = (r, S) => {\n    n(12, b = S.detail), I(F, s = h[r], s);\n  }, Ue = (r, S, W) => {\n    n(1, S[W].label = a, _), Z();\n  }, f = (r) => I(j, a = r, a);\n  function k(r) {\n    re[r ? \"unshift\" : \"push\"](() => {\n      m = r, n(5, m);\n    });\n  }\n  const Ot = (r) => me(r), Xt = (r) => N.delete(he.get(r.code)), Yt = () => N.clear();\n  return e.$$set = (r) => {\n    \"model\" in r && n(39, M = r.model);\n  }, e.$$.update = () => {\n    if (e.$$.dirty[0] & /*$classes*/\n    16 && I(j, a = u.length > 0 ? u[0] : \"\", a), e.$$.dirty[0] & /*$selected_index*/\n    8 | e.$$.dirty[1] & /*$bboxes*/\n    2048 && s >= i.length && I(F, s = -1, s), e.$$.dirty[0] & /*$selected_index*/\n    8 | e.$$.dirty[1] & /*$bboxes*/\n    2048 && n(1, _ = s === -1 ? i : [\n      ...i.filter((r, S) => S !== s),\n      i[s]\n    ]), e.$$.dirty[0] & /*sortedBBoxes*/\n    2 && n(11, h = _.map((r, S) => G(S))), e.$$.dirty[0] & /*img, image_src*/\n    5 | e.$$.dirty[1] & /*$image_bytes*/\n    1024 && d && c) {\n      URL.revokeObjectURL(x);\n      const r = new Blob([c]);\n      n(2, x = URL.createObjectURL(r));\n    }\n    e.$$.dirty[0] & /*img, image_src*/\n    5 | e.$$.dirty[1] & /*$image_url*/\n    512 && d && l && (URL.revokeObjectURL(x), n(2, x = l));\n  }, [\n    d,\n    _,\n    x,\n    s,\n    u,\n    m,\n    q,\n    v,\n    C,\n    D,\n    y,\n    h,\n    b,\n    a,\n    g,\n    E,\n    w,\n    N,\n    K,\n    O,\n    ce,\n    j,\n    ie,\n    V,\n    F,\n    T,\n    oe,\n    se,\n    ge,\n    Q,\n    p,\n    H,\n    Z,\n    Y,\n    we,\n    he,\n    me,\n    be,\n    pe,\n    M,\n    l,\n    c,\n    i,\n    ye,\n    ke,\n    ve,\n    Me,\n    Pe,\n    J,\n    Ee,\n    Ce,\n    Ne,\n    Ue,\n    f,\n    k,\n    Ot,\n    Xt,\n    Yt\n  ];\n}\nclass Sn extends ct {\n  constructor(t) {\n    super(), _t(this, t, qn, Cn, et, { model: 39 }, null, [-1, -1, -1]);\n  }\n}\nfunction An({ model: e, el: t }) {\n  let n = new Sn({ target: t, props: { model: e } });\n  return () => n.$destroy();\n}\nconst zn = { render: An };\nexport {\n  zn as default\n};\n",
      "_model_module": "anywidget",
      "_model_module_version": "~0.9.*",
      "_model_name": "AnyModel",
      "_view_count": null,
      "_view_module": "anywidget",
      "_view_module_version": "~0.9.*",
      "_view_name": "AnyView",
      "bboxes": [],
      "classes": [],
      "colors": [
       "#1f77b4",
       "#ff7f0e",
       "#2ca02c",
       "#d62728",
       "#9467bd",
       "#8c564b",
       "#e377c2",
       "#7f7f7f",
       "#bcbd22",
       "#17becf"
      ],
      "hide_buttons": false,
      "image": "data:image/jpg;base64,iVBORw0KGgoAAAANSUhEUgAAABAAAAAQCAYAAAAf8/9hAAAAOnRFWHRTb2Z0d2FyZQBNYXRwbG90bGliIHZlcnNpb24zLjEwLjAsIGh0dHBzOi8vbWF0cGxvdGxpYi5vcmcvlHJYcgAAAAlwSFlzAAAPYQAAD2EBqD+naQAAAIRJREFUeJzVkjEKw0AMBEdn1/qh/TH/xvcUv0DqjVIoB8FwEJ+LkIVthHbQggQIHmgGOI4DVb0ddvcEqOoQAKAMpf4HUCusa7rW/l6YWVy17xGlRExTupScfcrMonvBtoEInGdaJGe3KnyrRxW6gAZZlvQ13ADyBgy/8u8faW6njMjdeQHB0L6ivai3PQAAAABJRU5ErkJggg==",
      "image_url": "data:image/jpg;base64,iVBORw0KGgoAAAANSUhEUgAAABAAAAAQCAYAAAAf8/9hAAAAOnRFWHRTb2Z0d2FyZQBNYXRwbG90bGliIHZlcnNpb24zLjEwLjAsIGh0dHBzOi8vbWF0cGxvdGxpYi5vcmcvlHJYcgAAAAlwSFlzAAAPYQAAD2EBqD+naQAAAIRJREFUeJzVkjEKw0AMBEdn1/qh/TH/xvcUv0DqjVIoB8FwEJ+LkIVthHbQggQIHmgGOI4DVb0ddvcEqOoQAKAMpf4HUCusa7rW/l6YWVy17xGlRExTupScfcrMonvBtoEInGdaJGe3KnyrRxW6gAZZlvQ13ADyBgy/8u8faW6njMjdeQHB0L6ivai3PQAAAABJRU5ErkJggg==",
      "label": "",
      "layout": "IPY_MODEL_3984c31666a94bda86291ac05194eff5",
      "selected_index": -1,
      "view_only": false
     }
    },
    "3984c31666a94bda86291ac05194eff5": {
     "model_module": "@jupyter-widgets/base",
     "model_module_version": "1.2.0",
     "model_name": "LayoutModel",
     "state": {
      "_model_module": "@jupyter-widgets/base",
      "_model_module_version": "1.2.0",
      "_model_name": "LayoutModel",
      "_view_count": null,
      "_view_module": "@jupyter-widgets/base",
      "_view_module_version": "1.2.0",
      "_view_name": "LayoutView",
      "align_content": null,
      "align_items": null,
      "align_self": null,
      "border": null,
      "bottom": null,
      "display": null,
      "flex": null,
      "flex_flow": null,
      "grid_area": null,
      "grid_auto_columns": null,
      "grid_auto_flow": null,
      "grid_auto_rows": null,
      "grid_column": null,
      "grid_gap": null,
      "grid_row": null,
      "grid_template_areas": null,
      "grid_template_columns": null,
      "grid_template_rows": null,
      "height": null,
      "justify_content": null,
      "justify_items": null,
      "left": null,
      "margin": null,
      "max_height": null,
      "max_width": null,
      "min_height": null,
      "min_width": null,
      "object_fit": null,
      "object_position": null,
      "order": null,
      "overflow": null,
      "overflow_x": null,
      "overflow_y": null,
      "padding": null,
      "right": null,
      "top": null,
      "visibility": null,
      "width": null
     }
    }
   }
  }
 },
 "nbformat": 4,
 "nbformat_minor": 4
}
